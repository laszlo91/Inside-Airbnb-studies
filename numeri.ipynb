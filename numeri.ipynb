{
 "cells": [
  {
   "cell_type": "code",
   "execution_count": 1,
   "metadata": {},
   "outputs": [],
   "source": [
    "import pandas as pd\n",
    "from collections import Counter\n",
    "import os\n",
    "import matplotlib.pyplot as plt\n",
    "\n",
    "listings = pd.read_csv(\"bologna/detailed/02_2020_text.csv\")\n",
    "\n",
    "def percentuali(serie):\n",
    "    a = Counter(serie.fillna(\"n.a\")).most_common()\n",
    "    tot = sum([i[1] for i in a])\n",
    "    for i in a:\n",
    "        print(f\"{(i[1]/tot)*100:.2f} % of announces has {i[0]} {serie.name}\")\n",
    "    print()\n",
    "    tot_bed = sum([i[0]*i[1] for i in a if type(i[0]) == int])\n",
    "    print(f\"totale posti letto {tot_bed}\")\n",
    "    print(f\"media posti letto {serie.mean()}\")"
   ]
  },
  {
   "cell_type": "code",
   "execution_count": 2,
   "metadata": {},
   "outputs": [
    {
     "name": "stdout",
     "output_type": "stream",
     "text": [
      "35.81 % of announces has 2 accommodates\n",
      "26.83 % of announces has 4 accommodates\n",
      "15.62 % of announces has 3 accommodates\n",
      "6.40 % of announces has 5 accommodates\n",
      "5.98 % of announces has 6 accommodates\n",
      "5.75 % of announces has 1 accommodates\n",
      "1.33 % of announces has 7 accommodates\n",
      "1.24 % of announces has 8 accommodates\n",
      "0.42 % of announces has 9 accommodates\n",
      "0.22 % of announces has 10 accommodates\n",
      "0.13 % of announces has 16 accommodates\n",
      "0.11 % of announces has 12 accommodates\n",
      "0.04 % of announces has 13 accommodates\n",
      "0.04 % of announces has 11 accommodates\n",
      "0.04 % of announces has 14 accommodates\n",
      "0.02 % of announces has 15 accommodates\n",
      "\n",
      "totale posti letto 14864\n",
      "media posti letto 3.301643713904931\n"
     ]
    }
   ],
   "source": [
    "percentuali(listings.accommodates)"
   ]
  },
  {
   "cell_type": "code",
   "execution_count": 3,
   "metadata": {},
   "outputs": [
    {
     "name": "stdout",
     "output_type": "stream",
     "text": [
      "37.06 % of announces has 4 accommodates\n",
      "22.80 % of announces has 2 accommodates\n",
      "17.41 % of announces has 3 accommodates\n",
      "8.90 % of announces has 5 accommodates\n",
      "8.48 % of announces has 6 accommodates\n",
      "1.81 % of announces has 7 accommodates\n",
      "1.71 % of announces has 8 accommodates\n",
      "0.62 % of announces has 9 accommodates\n",
      "0.39 % of announces has 1 accommodates\n",
      "0.33 % of announces has 10 accommodates\n",
      "0.20 % of announces has 16 accommodates\n",
      "0.10 % of announces has 12 accommodates\n",
      "0.07 % of announces has 13 accommodates\n",
      "0.07 % of announces has 14 accommodates\n",
      "0.03 % of announces has 15 accommodates\n",
      "0.03 % of announces has 11 accommodates\n",
      "\n",
      "totale posti letto 11689\n",
      "media posti letto 3.840013140604468\n"
     ]
    }
   ],
   "source": [
    "#CASE INTERE!\n",
    "\n",
    "percentuali(listings[listings.room_type == 'Entire home/apt'].accommodates)"
   ]
  },
  {
   "cell_type": "code",
   "execution_count": 4,
   "metadata": {},
   "outputs": [
    {
     "name": "stdout",
     "output_type": "stream",
     "text": [
      "47.00 % of announces has 1 minimum_nights\n",
      "37.09 % of announces has 2 minimum_nights\n",
      "11.17 % of announces has 3 minimum_nights\n",
      "1.51 % of announces has 4 minimum_nights\n",
      "0.96 % of announces has 5 minimum_nights\n",
      "0.76 % of announces has 7 minimum_nights\n",
      "0.24 % of announces has 30 minimum_nights\n",
      "0.24 % of announces has 6 minimum_nights\n",
      "0.22 % of announces has 10 minimum_nights\n",
      "0.13 % of announces has 28 minimum_nights\n",
      "0.09 % of announces has 14 minimum_nights\n",
      "0.09 % of announces has 170 minimum_nights\n",
      "0.09 % of announces has 20 minimum_nights\n",
      "0.07 % of announces has 15 minimum_nights\n",
      "0.07 % of announces has 27 minimum_nights\n",
      "0.04 % of announces has 55 minimum_nights\n",
      "0.04 % of announces has 25 minimum_nights\n",
      "0.04 % of announces has 13 minimum_nights\n",
      "0.02 % of announces has 31 minimum_nights\n",
      "0.02 % of announces has 22 minimum_nights\n",
      "0.02 % of announces has 29 minimum_nights\n",
      "0.02 % of announces has 9 minimum_nights\n",
      "0.02 % of announces has 11 minimum_nights\n",
      "0.02 % of announces has 35 minimum_nights\n",
      "\n",
      "totale posti letto 9619\n",
      "media posti letto 2.136605952909818\n"
     ]
    }
   ],
   "source": [
    "percentuali(listings.minimum_nights)"
   ]
  },
  {
   "cell_type": "code",
   "execution_count": 5,
   "metadata": {},
   "outputs": [
    {
     "name": "stdout",
     "output_type": "stream",
     "text": [
      "46.93 % of announces belongs to hosts with 1 announces\n",
      "15.55 % of announces belongs to hosts with 2 announces\n",
      "9.86 % of announces belongs to hosts with 3 announces\n",
      "4.98 % of announces belongs to hosts with 4 announces\n",
      "3.78 % of announces belongs to hosts with 5 announces\n",
      "2.27 % of announces belongs to hosts with 6 announces\n",
      "2.02 % of announces belongs to hosts with 7 announces\n",
      "1.53 % of announces belongs to hosts with 69 announces\n",
      "1.35 % of announces belongs to hosts with 61 announces\n",
      "1.33 % of announces belongs to hosts with 10 announces\n",
      "1.20 % of announces belongs to hosts with 9 announces\n",
      "1.07 % of announces belongs to hosts with 12 announces\n",
      "1.07 % of announces belongs to hosts with 8 announces\n",
      "1.02 % of announces belongs to hosts with 23 announces\n",
      "1.00 % of announces belongs to hosts with 15 announces\n",
      "0.98 % of announces belongs to hosts with 22 announces\n",
      "0.89 % of announces belongs to hosts with 40 announces\n",
      "0.78 % of announces belongs to hosts with 35 announces\n",
      "0.58 % of announces belongs to hosts with 13 announces\n",
      "0.47 % of announces belongs to hosts with 21 announces\n",
      "0.44 % of announces belongs to hosts with 20 announces\n",
      "0.36 % of announces belongs to hosts with 16 announces\n",
      "0.31 % of announces belongs to hosts with 14 announces\n",
      "0.24 % of announces belongs to hosts with 11 announces\n"
     ]
    }
   ],
   "source": [
    "def percentuali_2(serie):\n",
    "    a = Counter(serie.fillna(\"n.a\")).most_common()\n",
    "    tot = sum([i[1] for i in a])\n",
    "    for i in a:\n",
    "        print(f\"{(i[1]/tot)*100:.2f} % of announces belongs to hosts with {i[0]} announces\")\n",
    "\n",
    "percentuali_2(listings.calculated_host_listings_count)"
   ]
  },
  {
   "cell_type": "code",
   "execution_count": 6,
   "metadata": {},
   "outputs": [
    {
     "name": "stdout",
     "output_type": "stream",
     "text": [
      "54.04 % of entire homes announces belongs to hosts with 1 home announces\n",
      "13.67 % of entire homes announces belongs to hosts with 2 home announces\n",
      "7.00 % of entire homes announces belongs to hosts with 3 home announces\n",
      "3.15 % of entire homes announces belongs to hosts with 4 home announces\n",
      "2.53 % of entire homes announces belongs to hosts with 7 home announces\n",
      "2.30 % of entire homes announces belongs to hosts with 5 home announces\n",
      "2.23 % of entire homes announces belongs to hosts with 68 home announces\n",
      "2.00 % of entire homes announces belongs to hosts with 61 home announces\n",
      "1.45 % of entire homes announces belongs to hosts with 22 home announces\n",
      "1.38 % of entire homes announces belongs to hosts with 21 home announces\n",
      "1.31 % of entire homes announces belongs to hosts with 20 home announces\n",
      "1.18 % of entire homes announces belongs to hosts with 12 home announces\n",
      "0.99 % of entire homes announces belongs to hosts with 15 home announces\n",
      "0.95 % of entire homes announces belongs to hosts with 29 home announces\n",
      "0.92 % of entire homes announces belongs to hosts with 28 home announces\n",
      "0.89 % of entire homes announces belongs to hosts with 9 home announces\n",
      "0.79 % of entire homes announces belongs to hosts with 8 home announces\n",
      "0.79 % of entire homes announces belongs to hosts with 6 home announces\n",
      "0.66 % of entire homes announces belongs to hosts with 10 home announces\n",
      "0.53 % of entire homes announces belongs to hosts with 16 home announces\n",
      "0.46 % of entire homes announces belongs to hosts with 14 home announces\n",
      "0.43 % of entire homes announces belongs to hosts with 13 home announces\n",
      "0.36 % of entire homes announces belongs to hosts with 11 home announces\n"
     ]
    }
   ],
   "source": [
    "home_listings = listings[listings.room_type == 'Entire home/apt']\n",
    "\n",
    "def percentuali_3(serie):\n",
    "    a = Counter(serie.fillna(\"n.a\")).most_common()\n",
    "    tot = sum([i[1] for i in a])\n",
    "    for i in a:\n",
    "        print(f\"{(i[1]/tot)*100:.2f} % of entire homes announces belongs to hosts with {i[0]} home announces\")\n",
    "\n",
    "percentuali_3(home_listings.calculated_host_listings_count_entire_homes)"
   ]
  },
  {
   "cell_type": "code",
   "execution_count": 7,
   "metadata": {},
   "outputs": [
    {
     "name": "stdout",
     "output_type": "stream",
     "text": [
      "48.92 % of room announces belongs to hosts with 1 room announces\n",
      "22.38 % of room announces belongs to hosts with 2 room announces\n",
      "12.50 % of room announces belongs to hosts with 3 room announces\n",
      "5.56 % of room announces belongs to hosts with 4 room announces\n",
      "4.63 % of room announces belongs to hosts with 6 room announces\n",
      "2.31 % of room announces belongs to hosts with 5 room announces\n",
      "1.62 % of room announces belongs to hosts with 7 room announces\n",
      "1.23 % of room announces belongs to hosts with 8 room announces\n",
      "0.85 % of room announces belongs to hosts with 11 room announces\n"
     ]
    }
   ],
   "source": [
    "home_listings = listings[listings.room_type == 'Private room']\n",
    "\n",
    "def percentuali_4(serie):\n",
    "    a = Counter(serie.fillna(\"n.a\")).most_common()\n",
    "    tot = sum([i[1] for i in a])\n",
    "    for i in a:\n",
    "        print(f\"{(i[1]/tot)*100:.2f} % of room announces belongs to hosts with {i[0]} room announces\")\n",
    "\n",
    "percentuali_4(home_listings.calculated_host_listings_count_private_rooms)"
   ]
  },
  {
   "cell_type": "code",
   "execution_count": 8,
   "metadata": {},
   "outputs": [],
   "source": [
    "# all my csv!\n",
    "files = [i for i in os.listdir('quartierizzata') if i.endswith('.csv')]\n",
    "\n",
    "\n",
    "# Initializing all csv files as a pandas dataframe\n",
    "def setup(datalist):\n",
    "    \n",
    "    dfs = []\n",
    "    for i in datalist:  \n",
    "        try:\n",
    "            dfs.append(pd.read_csv(\"quartierizzata/\" + str(i)))\n",
    "        except UnicodeDecodeError:\n",
    "            print(i)\n",
    "    \n",
    "    return dfs     \n",
    "\n",
    "dfs = setup(files)\n",
    "\n",
    "\n",
    "# Creating a list of pandas datetimes from the filenames \n",
    "def timestamps(datalist):\n",
    "    periods = []\n",
    "    for i in datalist:\n",
    "        y = i.split(\".\")[0].split(\"-\")[0]\n",
    "        m = i.split(\".\")[0].split(\"-\")[1]\n",
    "        d = 1\n",
    "        date = str(y) + \"-\" + str(m) + \"-\" + str(d)\n",
    "        date = pd.Timestamp(date)\n",
    "        periods.append(date)\n",
    "    return periods\n",
    "\n",
    "periods = timestamps(files)\n",
    "\n",
    "\n",
    "# Sorting dataframes by date\n",
    "tmp = [(d,p) for d,p in sorted(zip(dfs,periods), key=lambda pair: pair[1])]\n",
    "periods = [b for a,b in tmp]\n",
    "dfs = [a for a,b in tmp]\n",
    "    \n",
    "    \n",
    "## then check out if everything went well \n",
    "assert(len(periods) == len(dfs))"
   ]
  },
  {
   "cell_type": "code",
   "execution_count": 9,
   "metadata": {},
   "outputs": [],
   "source": [
    "periods = periods[1:]\n",
    "dfs = dfs[1:]\n",
    "periods_2 = [i.strftime('%Y/%m') for i in periods]"
   ]
  },
  {
   "cell_type": "code",
   "execution_count": 10,
   "metadata": {},
   "outputs": [],
   "source": [
    "def aggregate_zone(df):\n",
    "    df[\"macroarea\"] = 'periferia'\n",
    "    df.loc[df['zone'].isin(['Marconi','Irnerio','Malpighi','Galvani']), 'macroarea'] = 'centro'\n",
    "    #df.loc[df['zone'].isin(['Bolognina']), 'macroarea'] = 'bolognina'\n",
    "    return df\n",
    "\n",
    "dfs = [aggregate_zone(i) for i in dfs]"
   ]
  },
  {
   "cell_type": "code",
   "execution_count": 11,
   "metadata": {},
   "outputs": [],
   "source": [
    "def remove_outliers(period):\n",
    "    x = period['price'] * period['availability_365'] / 365\n",
    "    period[\"price_pond\"] = x\n",
    "    y = period['price']\n",
    "    return period[y.between(y.quantile(.0001), y.quantile(.97))]\n",
    "\n",
    "dfs = [remove_outliers(i) for i in dfs]\n",
    "\n",
    "periods = [i.strftime('%Y/%m') for i in periods]"
   ]
  },
  {
   "cell_type": "code",
   "execution_count": 12,
   "metadata": {},
   "outputs": [
    {
     "data": {
      "image/png": "[encoded data removed]",
      "text/plain": [
       "<Figure size 432x288 with 1 Axes>"
      ]
     },
     "metadata": {
      "needs_background": "light"
     },
     "output_type": "display_data"
    },
    {
     "data": {
      "image/png": "[encoded data removed]",
      "text/plain": [
       "<Figure size 1224x504 with 1 Axes>"
      ]
     },
     "metadata": {
      "needs_background": "light"
     },
     "output_type": "display_data"
    },
    {
     "data": {
      "image/png": "[encoded data removed]",
      "text/plain": [
       "<Figure size 432x288 with 1 Axes>"
      ]
     },
     "metadata": {
      "needs_background": "light"
     },
     "output_type": "display_data"
    },
    {
     "data": {
      "image/png": "[encoded data removed]",
      "text/plain": [
       "<Figure size 1224x504 with 1 Axes>"
      ]
     },
     "metadata": {
      "needs_background": "light"
     },
     "output_type": "display_data"
    }
   ],
   "source": [
    "def five_val(dfs=dfs):\n",
    "    median = round(len(dfs) / 2)\n",
    "    second = round(round(len(dfs) / 2) / 2)\n",
    "    fourth = median + second\n",
    "    return [0, second, median, fourth, -1]\n",
    "\n",
    "def seven_val(dfs=dfs):\n",
    "    return [0, 3, 4, 6, -5, -1]\n",
    "\n",
    "def plotting(series, title, i=seven_val(), dfs=dfs, periods=periods):\n",
    "\n",
    "    graph_df = series[0].rename(periods[i[0]]).to_frame()\\\n",
    "    .join(series[1].rename(periods[i[1]]).to_frame())\\\n",
    "    .join(series[2].rename(periods[i[2]]).to_frame())\\\n",
    "    .join(series[3].rename(periods[i[3]]).to_frame())\\\n",
    "    .join(series[4].rename(periods[i[4]]).to_frame())\\\n",
    "    .join(series[5].rename(periods[i[5]]).to_frame())\n",
    "\n",
    "    fig, ax2 = plt.subplots()\n",
    "    graph_df.plot(kind='bar',figsize=(17, 7), title=title)\n",
    "    \n",
    "\n",
    "    #graph_df.plot(kind='bar',figsize=(17, 7), title=title, ax=ax2)\n",
    "    ax2.grid(axis='y')\n",
    "    plt.show()\n",
    "\n",
    "\n",
    "def neigh_id_count(ils=seven_val(), dfs=dfs):\n",
    "    return [dfs[i]['zone'].value_counts(normalize=True) * 100 for i in ils]\n",
    "\n",
    "def neigh_average_price(ils=seven_val(), dfs=dfs):\n",
    "    return [dfs[i].groupby(\"zone\")['price'].mean() for i in ils]\n",
    "        \n",
    "\n",
    "plotting(neigh_id_count(), \"Numero annunci per zona (percentuale sul totale)\")\n",
    "plotting(neigh_average_price(), \"Prezzo medio per zona\")"
   ]
  },
  {
   "cell_type": "code",
   "execution_count": 13,
   "metadata": {},
   "outputs": [
    {
     "name": "stdout",
     "output_type": "stream",
     "text": [
      "tasso crescita prezzo medio fra 2018/07 e 2019/07 per quartiere Barca è del 6.77 %\n",
      "tasso crescita prezzo medio fra 2018/07 e 2019/07 per quartiere Bolognina è del 6.47 %\n",
      "tasso crescita prezzo medio fra 2018/07 e 2019/07 per quartiere Borgo Panigale è del 15.13 %\n",
      "tasso crescita prezzo medio fra 2018/07 e 2019/07 per quartiere Colli è del 3.89 %\n",
      "tasso crescita prezzo medio fra 2018/07 e 2019/07 per quartiere Corticella è del 16.57 %\n",
      "tasso crescita prezzo medio fra 2018/07 e 2019/07 per quartiere Costa Saragozza è del 13.86 %\n",
      "tasso crescita prezzo medio fra 2018/07 e 2019/07 per quartiere Galvani è del 4.61 %\n",
      "tasso crescita prezzo medio fra 2018/07 e 2019/07 per quartiere Irnerio è del 7.78 %\n",
      "tasso crescita prezzo medio fra 2018/07 e 2019/07 per quartiere Lame è del 15.74 %\n",
      "tasso crescita prezzo medio fra 2018/07 e 2019/07 per quartiere Malpighi è del 9.08 %\n",
      "tasso crescita prezzo medio fra 2018/07 e 2019/07 per quartiere Marconi è del 10.47 %\n",
      "tasso crescita prezzo medio fra 2018/07 e 2019/07 per quartiere Mazzini è del -7.38 %\n",
      "tasso crescita prezzo medio fra 2018/07 e 2019/07 per quartiere Murri è del 16.61 %\n",
      "tasso crescita prezzo medio fra 2018/07 e 2019/07 per quartiere S. Ruffillo è del 1.16 %\n",
      "tasso crescita prezzo medio fra 2018/07 e 2019/07 per quartiere S. Viola è del -1.29 %\n",
      "tasso crescita prezzo medio fra 2018/07 e 2019/07 per quartiere S. Vitale è del 1.87 %\n",
      "tasso crescita prezzo medio fra 2018/07 e 2019/07 per quartiere Saffi è del 4.95 %\n",
      "tasso crescita prezzo medio fra 2018/07 e 2019/07 per quartiere San Donato è del 6.83 %\n",
      "\n",
      "media 7.248314277456294\n",
      "\n",
      "\n",
      "tasso crescita prezzo medio fra 2019/02 e 2020/04 per quartiere Barca è del 2.26 %\n",
      "tasso crescita prezzo medio fra 2019/02 e 2020/04 per quartiere Bolognina è del 21.78 %\n",
      "tasso crescita prezzo medio fra 2019/02 e 2020/04 per quartiere Borgo Panigale è del 23.14 %\n",
      "tasso crescita prezzo medio fra 2019/02 e 2020/04 per quartiere Colli è del 5.94 %\n",
      "tasso crescita prezzo medio fra 2019/02 e 2020/04 per quartiere Corticella è del 7.87 %\n",
      "tasso crescita prezzo medio fra 2019/02 e 2020/04 per quartiere Costa Saragozza è del 14.73 %\n",
      "tasso crescita prezzo medio fra 2019/02 e 2020/04 per quartiere Galvani è del 20.92 %\n",
      "tasso crescita prezzo medio fra 2019/02 e 2020/04 per quartiere Irnerio è del 22.33 %\n",
      "tasso crescita prezzo medio fra 2019/02 e 2020/04 per quartiere Lame è del 22.60 %\n",
      "tasso crescita prezzo medio fra 2019/02 e 2020/04 per quartiere Malpighi è del 12.20 %\n",
      "tasso crescita prezzo medio fra 2019/02 e 2020/04 per quartiere Marconi è del 21.25 %\n",
      "tasso crescita prezzo medio fra 2019/02 e 2020/04 per quartiere Mazzini è del 24.79 %\n",
      "tasso crescita prezzo medio fra 2019/02 e 2020/04 per quartiere Murri è del 26.08 %\n",
      "tasso crescita prezzo medio fra 2019/02 e 2020/04 per quartiere S. Ruffillo è del -12.89 %\n",
      "tasso crescita prezzo medio fra 2019/02 e 2020/04 per quartiere S. Viola è del 18.84 %\n",
      "tasso crescita prezzo medio fra 2019/02 e 2020/04 per quartiere S. Vitale è del 17.75 %\n",
      "tasso crescita prezzo medio fra 2019/02 e 2020/04 per quartiere Saffi è del 8.19 %\n",
      "tasso crescita prezzo medio fra 2019/02 e 2020/04 per quartiere San Donato è del 23.02 %\n",
      "\n",
      "media 15.623314229222082\n"
     ]
    }
   ],
   "source": [
    "def prezzo_medio_per_zona(x1, x2, dfs=dfs):    \n",
    "    \n",
    "    _2018 =  dfs[x1].groupby(\"zone\")['price'].mean()\n",
    "    _2020 = dfs[x2].groupby(\"zone\")['price'].mean()\n",
    "\n",
    "    s1 = ((_2020 - _2018) / _2018 ) * 100\n",
    "    s0 = s1.index\n",
    "\n",
    "    for ix,it in enumerate(s0):\n",
    "        print(f\"tasso crescita prezzo medio fra {periods_2[x1]} e {periods_2[x2]} per quartiere {it} è del {s1[ix]:.2f} %\")\n",
    "\n",
    "    print()\n",
    "    print(f\"media {((_2020.sum()-_2018.sum()) / _2018.sum() ) * 100}\")\n",
    "\n",
    "prezzo_medio_per_zona(0, 6)\n",
    "print()\n",
    "print()\n",
    "prezzo_medio_per_zona(3, -1)"
   ]
  },
  {
   "cell_type": "code",
   "execution_count": 14,
   "metadata": {},
   "outputs": [
    {
     "name": "stdout",
     "output_type": "stream",
     "text": [
      "tasso crescita prezzo medio fra 2018/07 e 2019/07 per quartiere centro è del 8.15 %\n",
      "tasso crescita prezzo medio fra 2018/07 e 2019/07 per quartiere periferia è del 6.91 %\n",
      "\n",
      "\n",
      "tasso crescita prezzo medio fra 2019/02 e 2020/04 per quartiere centro è del 19.99 %\n",
      "tasso crescita prezzo medio fra 2019/02 e 2020/04 per quartiere periferia è del 17.74 %\n"
     ]
    }
   ],
   "source": [
    "def prezzo_medio_per_macroarea(x1, x2, dfs=dfs):   \n",
    "    _2018 =  dfs[x1].groupby(\"macroarea\")['price'].mean()\n",
    "    _2020 = dfs[x2].groupby(\"macroarea\")['price'].mean()\n",
    "\n",
    "    s1 = ((_2020 - _2018) / _2018 ) * 100\n",
    "    s0 = s1.index\n",
    "\n",
    "    for ix,it in enumerate(s0):\n",
    "        print(f\"tasso crescita prezzo medio fra {periods_2[x1]} e {periods_2[x2]} per quartiere {it} è del {s1[ix]:.2f} %\")\n",
    "        \n",
    "prezzo_medio_per_macroarea(0, 6)\n",
    "print()\n",
    "print()\n",
    "prezzo_medio_per_macroarea(3, -1)"
   ]
  },
  {
   "cell_type": "code",
   "execution_count": 15,
   "metadata": {},
   "outputs": [
    {
     "name": "stdout",
     "output_type": "stream",
     "text": [
      "tasso crescita num. annunci fra 2018/07 e 2020/04 per quartiere Barca è del 7.14 %\n",
      "tasso crescita num. annunci fra 2018/07 e 2020/04 per quartiere Bolognina è del -1.40 %\n",
      "tasso crescita num. annunci fra 2018/07 e 2020/04 per quartiere Borgo Panigale è del 16.18 %\n",
      "tasso crescita num. annunci fra 2018/07 e 2020/04 per quartiere Colli è del -1.16 %\n",
      "tasso crescita num. annunci fra 2018/07 e 2020/04 per quartiere Corticella è del 13.51 %\n",
      "tasso crescita num. annunci fra 2018/07 e 2020/04 per quartiere Costa Saragozza è del -4.46 %\n",
      "tasso crescita num. annunci fra 2018/07 e 2020/04 per quartiere Galvani è del 13.14 %\n",
      "tasso crescita num. annunci fra 2018/07 e 2020/04 per quartiere Irnerio è del 16.83 %\n",
      "tasso crescita num. annunci fra 2018/07 e 2020/04 per quartiere Lame è del 9.68 %\n",
      "tasso crescita num. annunci fra 2018/07 e 2020/04 per quartiere Malpighi è del 10.97 %\n",
      "tasso crescita num. annunci fra 2018/07 e 2020/04 per quartiere Marconi è del 17.26 %\n",
      "tasso crescita num. annunci fra 2018/07 e 2020/04 per quartiere Mazzini è del 12.00 %\n",
      "tasso crescita num. annunci fra 2018/07 e 2020/04 per quartiere Murri è del -13.29 %\n",
      "tasso crescita num. annunci fra 2018/07 e 2020/04 per quartiere S. Ruffillo è del 31.25 %\n",
      "tasso crescita num. annunci fra 2018/07 e 2020/04 per quartiere S. Viola è del -12.28 %\n",
      "tasso crescita num. annunci fra 2018/07 e 2020/04 per quartiere S. Vitale è del -4.04 %\n",
      "tasso crescita num. annunci fra 2018/07 e 2020/04 per quartiere Saffi è del 16.43 %\n",
      "tasso crescita num. annunci fra 2018/07 e 2020/04 per quartiere San Donato è del 23.83 %\n",
      "\n",
      "media 9.444444444444445\n"
     ]
    }
   ],
   "source": [
    "x1, x2 = 0, -1\n",
    "_2018 =  dfs[x1]['zone'].value_counts(normalize=False)\n",
    "_2020 = dfs[x2]['zone'].value_counts(normalize=False)\n",
    "\n",
    "s1 = ((_2020 - _2018) / _2018 ) * 100\n",
    "s0 = s1.index\n",
    "\n",
    "for ix,it in enumerate(s0):\n",
    "    print(f\"tasso crescita num. annunci fra {periods_2[x1]} e {periods_2[x2]} per quartiere {it} è del {s1[ix]:.2f} %\")\n",
    "    \n",
    "print()\n",
    "print(f\"media {((_2020.sum()-_2018.sum()) / _2018.sum() ) * 100}\")"
   ]
  },
  {
   "cell_type": "code",
   "execution_count": 16,
   "metadata": {},
   "outputs": [
    {
     "name": "stdout",
     "output_type": "stream",
     "text": [
      "tasso crescita num. annunci fra 2018/07 e 2020/04 per area centro è del 15.14\n",
      "tasso crescita num. annunci fra 2018/07 e 2020/04 per area periferia è del 3.45\n"
     ]
    }
   ],
   "source": [
    "x1, x2 = 0, -1\n",
    "_2018 =  dfs[x1]['macroarea'].value_counts(normalize=False)\n",
    "_2020 = dfs[x2]['macroarea'].value_counts(normalize=False)\n",
    "\n",
    "s1 = ((_2020 - _2018) / _2018 ) * 100\n",
    "s0 = s1.index\n",
    "\n",
    "for ix,it in enumerate(s0):\n",
    "    print(f\"tasso crescita num. annunci fra {periods_2[x1]} e {periods_2[x2]} per area {it} è del {s1[ix]:.2f}\")"
   ]
  },
  {
   "cell_type": "code",
   "execution_count": 17,
   "metadata": {},
   "outputs": [
    {
     "data": {
      "image/png": "[encoded data removed]",
      "text/plain": [
       "<Figure size 720x432 with 1 Axes>"
      ]
     },
     "metadata": {},
     "output_type": "display_data"
    }
   ],
   "source": [
    "import seaborn as sns\n",
    "import matplotlib.pyplot as plt\n",
    "\n",
    "\n",
    "def snsplot(lines):\n",
    "    sns.set(style=\"darkgrid\")\n",
    "    plt.figure(figsize=(10,6))\n",
    "    sns.lineplot(markers=True, dashes=False, data=lines)\n",
    "\n",
    "\n",
    "def ids_during_time(dfs, periods):\n",
    "    index = pd.DatetimeIndex(periods)\n",
    "\n",
    "    centro = pd.Series([dfs[i][dfs[i].macroarea.isin([\"centro\"])]\\\n",
    "                                    .id.count() for i in range(len(dfs))], index=index)\n",
    "    #bolognina = pd.Series([dfs[i][dfs[i].macroarea.isin([\"bolognina\"])]\\\n",
    "    #                                .id.count() for i in range(len(dfs))], index=index)\n",
    "    periferia = pd.Series([dfs[i][dfs[i].macroarea.isin([\"periferia\"])]\\\n",
    "                                    .id.count() for i in range(len(dfs))], index=index)\n",
    "    \n",
    "\n",
    "    lines = centro.rename(\"centro\").to_frame()\\\n",
    "        .join(periferia.rename(\"fuori porta\").to_frame())\n",
    "            #.join(bolognina.rename(\"bolognina\").to_frame())\\\n",
    "    snsplot(lines)\n",
    "    \n",
    "ids_during_time(dfs, periods)\n",
    "\n",
    "\n",
    "#andamento annunci"
   ]
  }
 ],
 "metadata": {
  "kernelspec": {
   "display_name": "my_venv",
   "language": "python",
   "name": "my_venv"
  },
  "language_info": {
   "codemirror_mode": {
    "name": "ipython",
    "version": 3
   },
   "file_extension": ".py",
   "mimetype": "text/x-python",
   "name": "python",
   "nbconvert_exporter": "python",
   "pygments_lexer": "ipython3",
   "version": "3.6.9"
  }
 },
 "nbformat": 4,
 "nbformat_minor": 4
}
