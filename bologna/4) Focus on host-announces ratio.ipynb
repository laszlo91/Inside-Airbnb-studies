{
 "cells": [
  {
   "cell_type": "code",
   "execution_count": 1,
   "metadata": {},
   "outputs": [
    {
     "name": "stdout",
     "output_type": "stream",
     "text": [
      "35.51 % of announces has 2 accommodates\n",
      "28.99 % of announces has 4 accommodates\n",
      "16.19 % of announces has 3 accommodates\n",
      "6.11 % of announces has 5 accommodates\n",
      "5.07 % of announces has 6 accommodates\n",
      "4.63 % of announces has 1 accommodates\n",
      "1.30 % of announces has 7 accommodates\n",
      "1.25 % of announces has 8 accommodates\n",
      "0.26 % of announces has 9 accommodates\n",
      "0.23 % of announces has 10 accommodates\n",
      "0.12 % of announces has 16 accommodates\n",
      "0.09 % of announces has 13 accommodates\n",
      "0.09 % of announces has 12 accommodates\n",
      "0.06 % of announces has 11 accommodates\n",
      "0.06 % of announces has 15 accommodates\n",
      "0.06 % of announces has 14 accommodates\n",
      "\n",
      "total nb accommodates 11437\n",
      "avg accommodates per announce 3.3121922965537216\n"
     ]
    }
   ],
   "source": [
    "import pandas as pd\n",
    "from collections import Counter\n",
    "import os\n",
    "import matplotlib.pyplot as plt\n",
    "\n",
    "\n",
    "# Detailed listing is required to get more information about accomodates and other aggregations\n",
    "\n",
    "listings = pd.read_csv(\"listings_detailed/12_2021.csv\")\n",
    "\n",
    "\n",
    "def ratio_1(serie):\n",
    "    a = Counter(serie.fillna(\"n.a\")).most_common()\n",
    "    tot = sum([i[1] for i in a])\n",
    "    for i in a:\n",
    "        print(f\"{(i[1]/tot)*100:.2f} % of announces has {i[0]} {serie.name}\")\n",
    "    print()\n",
    "    tot_bed = sum([i[0]*i[1] for i in a if type(i[0]) == int])\n",
    "    \n",
    "    print(f\"total nb {serie.name} {tot_bed}\")\n",
    "    print(f\"avg {serie.name} per announce {serie.mean()}\")\n",
    "    \n",
    "ratio_1(listings.accommodates)"
   ]
  },
  {
   "cell_type": "code",
   "execution_count": 2,
   "metadata": {},
   "outputs": [
    {
     "name": "stdout",
     "output_type": "stream",
     "text": [
      "38.17 % of announces has 4 accommodates\n",
      "23.55 % of announces has 2 accommodates\n",
      "17.89 % of announces has 3 accommodates\n",
      "8.24 % of announces has 5 accommodates\n",
      "6.87 % of announces has 6 accommodates\n",
      "1.74 % of announces has 8 accommodates\n",
      "1.70 % of announces has 7 accommodates\n",
      "0.69 % of announces has 1 accommodates\n",
      "0.36 % of announces has 9 accommodates\n",
      "0.32 % of announces has 10 accommodates\n",
      "0.16 % of announces has 16 accommodates\n",
      "0.12 % of announces has 13 accommodates\n",
      "0.08 % of announces has 15 accommodates\n",
      "0.08 % of announces has 14 accommodates\n",
      "0.04 % of announces has 12 accommodates\n",
      "\n",
      "total nb accommodates 9304\n",
      "avg accommodates per announce 3.75767366720517\n"
     ]
    }
   ],
   "source": [
    "# only entire home:\n",
    "\n",
    "ratio_1(listings[listings.room_type == 'Entire home/apt'].accommodates)"
   ]
  },
  {
   "cell_type": "code",
   "execution_count": 3,
   "metadata": {},
   "outputs": [
    {
     "name": "stdout",
     "output_type": "stream",
     "text": [
      "44.83 % of announces has 1 minimum_nights\n",
      "34.03 % of announces has 2 minimum_nights\n",
      "13.41 % of announces has 3 minimum_nights\n",
      "2.09 % of announces has 4 minimum_nights\n",
      "1.62 % of announces has 5 minimum_nights\n",
      "1.16 % of announces has 7 minimum_nights\n",
      "0.64 % of announces has 6 minimum_nights\n",
      "0.41 % of announces has 30 minimum_nights\n",
      "0.35 % of announces has 10 minimum_nights\n",
      "0.26 % of announces has 20 minimum_nights\n",
      "0.20 % of announces has 15 minimum_nights\n",
      "0.12 % of announces has 28 minimum_nights\n",
      "0.12 % of announces has 14 minimum_nights\n",
      "0.12 % of announces has 18 minimum_nights\n",
      "0.09 % of announces has 31 minimum_nights\n",
      "0.09 % of announces has 300 minimum_nights\n",
      "0.09 % of announces has 25 minimum_nights\n",
      "0.06 % of announces has 60 minimum_nights\n",
      "0.06 % of announces has 90 minimum_nights\n",
      "0.06 % of announces has 400 minimum_nights\n",
      "0.06 % of announces has 21 minimum_nights\n",
      "0.06 % of announces has 29 minimum_nights\n",
      "0.03 % of announces has 26 minimum_nights\n",
      "0.03 % of announces has 22 minimum_nights\n",
      "0.03 % of announces has 200 minimum_nights\n",
      "0.03 % of announces has 9 minimum_nights\n",
      "\n",
      "total nb minimum_nights 9857\n",
      "avg minimum_nights per announce 2.8546191717347233\n"
     ]
    }
   ],
   "source": [
    "# and minimum nights per stay\n",
    "\n",
    "ratio_1(listings.minimum_nights)"
   ]
  },
  {
   "cell_type": "code",
   "execution_count": 4,
   "metadata": {},
   "outputs": [
    {
     "name": "stdout",
     "output_type": "stream",
     "text": [
      "43.12 % of announces belongs to hosts with 1 announces\n",
      "15.58 % of announces belongs to hosts with 2 announces\n",
      "9.99 % of announces belongs to hosts with 3 announces\n",
      "4.63 % of announces belongs to hosts with 4 announces\n",
      "4.34 % of announces belongs to hosts with 5 announces\n",
      "3.01 % of announces belongs to hosts with 8 announces\n",
      "2.26 % of announces belongs to hosts with 6 announces\n",
      "2.03 % of announces belongs to hosts with 7 announces\n",
      "1.59 % of announces belongs to hosts with 55 announces\n",
      "1.45 % of announces belongs to hosts with 50 announces\n",
      "1.39 % of announces belongs to hosts with 16 announces\n",
      "1.30 % of announces belongs to hosts with 9 announces\n",
      "1.27 % of announces belongs to hosts with 11 announces\n",
      "1.22 % of announces belongs to hosts with 42 announces\n",
      "1.07 % of announces belongs to hosts with 37 announces\n",
      "0.98 % of announces belongs to hosts with 17 announces\n",
      "0.98 % of announces belongs to hosts with 34 announces\n",
      "0.90 % of announces belongs to hosts with 31 announces\n",
      "0.87 % of announces belongs to hosts with 10 announces\n",
      "0.70 % of announces belongs to hosts with 12 announces\n",
      "0.52 % of announces belongs to hosts with 18 announces\n",
      "0.41 % of announces belongs to hosts with 14 announces\n",
      "0.38 % of announces belongs to hosts with 13 announces\n"
     ]
    }
   ],
   "source": [
    "# ratio announces / multihosts\n",
    "\n",
    "def ratio_2(serie):\n",
    "    a = Counter(serie.fillna(\"n.a\")).most_common()\n",
    "    tot = sum([i[1] for i in a])\n",
    "    for i in a:\n",
    "        print(f\"{(i[1]/tot)*100:.2f} % of announces belongs to hosts with {i[0]} announces\")\n",
    "\n",
    "ratio_2(listings.calculated_host_listings_count)"
   ]
  },
  {
   "cell_type": "code",
   "execution_count": 5,
   "metadata": {},
   "outputs": [
    {
     "name": "stdout",
     "output_type": "stream",
     "text": [
      "50.48 % of announces belongs to hosts with 1 announces\n",
      "13.49 % of announces belongs to hosts with 2 announces\n",
      "7.63 % of announces belongs to hosts with 3 announces\n",
      "3.39 % of announces belongs to hosts with 4 announces\n",
      "2.58 % of announces belongs to hosts with 8 announces\n",
      "2.22 % of announces belongs to hosts with 55 announces\n",
      "2.06 % of announces belongs to hosts with 17 announces\n",
      "2.02 % of announces belongs to hosts with 50 announces\n",
      "1.82 % of announces belongs to hosts with 5 announces\n",
      "1.70 % of announces belongs to hosts with 6 announces\n",
      "1.70 % of announces belongs to hosts with 42 announces\n",
      "1.45 % of announces belongs to hosts with 12 announces\n",
      "1.41 % of announces belongs to hosts with 35 announces\n",
      "1.33 % of announces belongs to hosts with 11 announces\n",
      "1.33 % of announces belongs to hosts with 33 announces\n",
      "1.29 % of announces belongs to hosts with 16 announces\n",
      "1.13 % of announces belongs to hosts with 7 announces\n",
      "1.09 % of announces belongs to hosts with 9 announces\n",
      "0.85 % of announces belongs to hosts with 21 announces\n",
      "0.61 % of announces belongs to hosts with 15 announces\n",
      "0.40 % of announces belongs to hosts with 10 announces\n"
     ]
    }
   ],
   "source": [
    "# ratio ENTIRE HOMES / multihosts (column for aggregation: calculated_host_listings_count_entire_homes)\n",
    "\n",
    "ratio_2(listings[listings.room_type == 'Entire home/apt'].calculated_host_listings_count_entire_homes)"
   ]
  },
  {
   "cell_type": "code",
   "execution_count": 6,
   "metadata": {},
   "outputs": [
    {
     "name": "stdout",
     "output_type": "stream",
     "text": [
      "39.96 % of announces belongs to hosts with 1 announces\n",
      "24.06 % of announces belongs to hosts with 2 announces\n",
      "13.25 % of announces belongs to hosts with 3 announces\n",
      "8.83 % of announces belongs to hosts with 4 announces\n",
      "5.30 % of announces belongs to hosts with 6 announces\n",
      "3.31 % of announces belongs to hosts with 5 announces\n",
      "2.32 % of announces belongs to hosts with 7 announces\n",
      "1.77 % of announces belongs to hosts with 8 announces\n",
      "1.21 % of announces belongs to hosts with 11 announces\n"
     ]
    }
   ],
   "source": [
    "# ratio PRIVATE ROOMS / multihosts (column for aggregation: calculated_host_listings_count_private_rooms)\n",
    "\n",
    "ratio_2(listings[listings.room_type == 'Private room'].calculated_host_listings_count_private_rooms)"
   ]
  }
 ],
 "metadata": {
  "kernelspec": {
   "display_name": "my_venv",
   "language": "python",
   "name": "my_venv"
  },
  "language_info": {
   "codemirror_mode": {
    "name": "ipython",
    "version": 3
   },
   "file_extension": ".py",
   "mimetype": "text/x-python",
   "name": "python",
   "nbconvert_exporter": "python",
   "pygments_lexer": "ipython3",
   "version": "3.6.9"
  }
 },
 "nbformat": 4,
 "nbformat_minor": 4
}
