{
 "cells": [
  {
   "cell_type": "code",
   "execution_count": 2,
   "metadata": {},
   "outputs": [
    {
     "name": "stdout",
     "output_type": "stream",
     "text": [
      "35.15 % of announces has 2 accommodates\n",
      "29.45 % of announces has 4 accommodates\n",
      "15.76 % of announces has 3 accommodates\n",
      "5.93 % of announces has 5 accommodates\n",
      "5.42 % of announces has 1 accommodates\n",
      "5.24 % of announces has 6 accommodates\n",
      "1.03 % of announces has 7 accommodates\n",
      "1.00 % of announces has 8 accommodates\n",
      "0.36 % of announces has 10 accommodates\n",
      "0.26 % of announces has 9 accommodates\n",
      "0.15 % of announces has 12 accommodates\n",
      "0.08 % of announces has 13 accommodates\n",
      "0.08 % of announces has 16 accommodates\n",
      "0.05 % of announces has 11 accommodates\n",
      "0.03 % of announces has 15 accommodates\n",
      "0.03 % of announces has 14 accommodates\n",
      "\n",
      "total nb accommodates 12790\n",
      "avg accommodates per announce 3.2836970474967906\n"
     ]
    }
   ],
   "source": [
    "import pandas as pd\n",
    "from collections import Counter\n",
    "import os\n",
    "import matplotlib.pyplot as plt\n",
    "\n",
    "\n",
    "# Detailed listing is required to get more information about accomodates and other aggregations\n",
    "\n",
    "listings = pd.read_csv(\"listings_detailed/9_2022.csv\")\n",
    "\n",
    "\n",
    "def ratio_1(serie):\n",
    "    a = Counter(serie.fillna(\"n.a\")).most_common()\n",
    "    tot = sum([i[1] for i in a])\n",
    "    for i in a:\n",
    "        print(f\"{(i[1]/tot)*100:.2f} % of announces has {i[0]} {serie.name}\")\n",
    "    print()\n",
    "    tot_bed = sum([i[0]*i[1] for i in a if type(i[0]) == int])\n",
    "    \n",
    "    print(f\"total nb {serie.name} {tot_bed}\")\n",
    "    print(f\"avg {serie.name} per announce {serie.mean()}\")\n",
    "    \n",
    "ratio_1(listings.accommodates)"
   ]
  },
  {
   "cell_type": "code",
   "execution_count": 3,
   "metadata": {},
   "outputs": [
    {
     "name": "stdout",
     "output_type": "stream",
     "text": [
      "38.71 % of announces has 4 accommodates\n",
      "24.04 % of announces has 2 accommodates\n",
      "17.46 % of announces has 3 accommodates\n",
      "8.00 % of announces has 5 accommodates\n",
      "7.11 % of announces has 6 accommodates\n",
      "1.36 % of announces has 8 accommodates\n",
      "1.32 % of announces has 7 accommodates\n",
      "0.75 % of announces has 1 accommodates\n",
      "0.50 % of announces has 10 accommodates\n",
      "0.36 % of announces has 9 accommodates\n",
      "0.11 % of announces has 13 accommodates\n",
      "0.11 % of announces has 16 accommodates\n",
      "0.11 % of announces has 12 accommodates\n",
      "0.04 % of announces has 15 accommodates\n",
      "0.04 % of announces has 14 accommodates\n",
      "\n",
      "total nb accommodates 10429\n",
      "avg accommodates per announce 3.724642857142857\n"
     ]
    }
   ],
   "source": [
    "# only entire home:\n",
    "\n",
    "ratio_1(listings[listings.room_type == 'Entire home/apt'].accommodates)"
   ]
  },
  {
   "cell_type": "code",
   "execution_count": 4,
   "metadata": {},
   "outputs": [
    {
     "name": "stdout",
     "output_type": "stream",
     "text": [
      "45.31 % of announces has 1 minimum_nights\n",
      "31.50 % of announces has 2 minimum_nights\n",
      "15.10 % of announces has 3 minimum_nights\n",
      "2.21 % of announces has 4 minimum_nights\n",
      "1.41 % of announces has 5 minimum_nights\n",
      "1.26 % of announces has 7 minimum_nights\n",
      "0.59 % of announces has 6 minimum_nights\n",
      "0.39 % of announces has 30 minimum_nights\n",
      "0.39 % of announces has 15 minimum_nights\n",
      "0.28 % of announces has 20 minimum_nights\n",
      "0.26 % of announces has 10 minimum_nights\n",
      "0.21 % of announces has 14 minimum_nights\n",
      "0.18 % of announces has 28 minimum_nights\n",
      "0.13 % of announces has 31 minimum_nights\n",
      "0.13 % of announces has 18 minimum_nights\n",
      "0.10 % of announces has 60 minimum_nights\n",
      "0.08 % of announces has 90 minimum_nights\n",
      "0.08 % of announces has 21 minimum_nights\n",
      "0.05 % of announces has 29 minimum_nights\n",
      "0.05 % of announces has 300 minimum_nights\n",
      "0.05 % of announces has 33 minimum_nights\n",
      "0.03 % of announces has 120 minimum_nights\n",
      "0.03 % of announces has 42 minimum_nights\n",
      "0.03 % of announces has 22 minimum_nights\n",
      "0.03 % of announces has 365 minimum_nights\n",
      "0.03 % of announces has 11 minimum_nights\n",
      "0.03 % of announces has 200 minimum_nights\n",
      "0.03 % of announces has 25 minimum_nights\n",
      "0.03 % of announces has 152 minimum_nights\n",
      "0.03 % of announces has 9 minimum_nights\n",
      "0.03 % of announces has 24 minimum_nights\n",
      "\n",
      "total nb minimum_nights 10898\n",
      "avg minimum_nights per announce 2.797946084724005\n"
     ]
    }
   ],
   "source": [
    "# and minimum nights per stay\n",
    "\n",
    "ratio_1(listings.minimum_nights)"
   ]
  },
  {
   "cell_type": "code",
   "execution_count": 5,
   "metadata": {},
   "outputs": [
    {
     "name": "stdout",
     "output_type": "stream",
     "text": [
      "42.70 % of announces belongs to hosts with 1 announces\n",
      "16.28 % of announces belongs to hosts with 2 announces\n",
      "9.01 % of announces belongs to hosts with 3 announces\n",
      "5.34 % of announces belongs to hosts with 4 announces\n",
      "3.34 % of announces belongs to hosts with 5 announces\n",
      "2.75 % of announces belongs to hosts with 107 announces\n",
      "2.16 % of announces belongs to hosts with 7 announces\n",
      "1.85 % of announces belongs to hosts with 6 announces\n",
      "1.85 % of announces belongs to hosts with 8 announces\n",
      "1.75 % of announces belongs to hosts with 68 announces\n",
      "1.49 % of announces belongs to hosts with 58 announces\n",
      "1.23 % of announces belongs to hosts with 12 announces\n",
      "1.16 % of announces belongs to hosts with 15 announces\n",
      "1.13 % of announces belongs to hosts with 11 announces\n",
      "1.08 % of announces belongs to hosts with 42 announces\n",
      "1.03 % of announces belongs to hosts with 10 announces\n",
      "1.00 % of announces belongs to hosts with 13 announces\n",
      "0.95 % of announces belongs to hosts with 37 announces\n",
      "0.82 % of announces belongs to hosts with 16 announces\n",
      "0.74 % of announces belongs to hosts with 29 announces\n",
      "0.69 % of announces belongs to hosts with 9 announces\n",
      "0.69 % of announces belongs to hosts with 27 announces\n",
      "0.54 % of announces belongs to hosts with 21 announces\n",
      "0.44 % of announces belongs to hosts with 17 announces\n"
     ]
    }
   ],
   "source": [
    "# ratio announces / multihosts\n",
    "\n",
    "def ratio_2(serie):\n",
    "    a = Counter(serie.fillna(\"n.a\")).most_common()\n",
    "    tot = sum([i[1] for i in a])\n",
    "    for i in a:\n",
    "        print(f\"{(i[1]/tot)*100:.2f} % of announces belongs to hosts with {i[0]} announces\")\n",
    "\n",
    "ratio_2(listings.calculated_host_listings_count)"
   ]
  },
  {
   "cell_type": "code",
   "execution_count": 6,
   "metadata": {},
   "outputs": [
    {
     "name": "stdout",
     "output_type": "stream",
     "text": [
      "49.46 % of announces belongs to hosts with 1 announces\n",
      "14.57 % of announces belongs to hosts with 2 announces\n",
      "6.00 % of announces belongs to hosts with 3 announces\n",
      "3.79 % of announces belongs to hosts with 106 announces\n",
      "3.14 % of announces belongs to hosts with 4 announces\n",
      "2.50 % of announces belongs to hosts with 7 announces\n",
      "2.39 % of announces belongs to hosts with 67 announces\n",
      "2.14 % of announces belongs to hosts with 15 announces\n",
      "2.07 % of announces belongs to hosts with 58 announces\n",
      "1.96 % of announces belongs to hosts with 11 announces\n",
      "1.50 % of announces belongs to hosts with 42 announces\n",
      "1.43 % of announces belongs to hosts with 5 announces\n",
      "1.32 % of announces belongs to hosts with 37 announces\n",
      "1.14 % of announces belongs to hosts with 8 announces\n",
      "1.14 % of announces belongs to hosts with 16 announces\n",
      "1.07 % of announces belongs to hosts with 6 announces\n",
      "0.93 % of announces belongs to hosts with 13 announces\n",
      "0.82 % of announces belongs to hosts with 23 announces\n",
      "0.75 % of announces belongs to hosts with 21 announces\n",
      "0.71 % of announces belongs to hosts with 20 announces\n",
      "0.71 % of announces belongs to hosts with 10 announces\n",
      "0.43 % of announces belongs to hosts with 12 announces\n"
     ]
    }
   ],
   "source": [
    "# ratio ENTIRE HOMES / multihosts (column for aggregation: calculated_host_listings_count_entire_homes)\n",
    "\n",
    "ratio_2(listings[listings.room_type == 'Entire home/apt'].calculated_host_listings_count_entire_homes)"
   ]
  },
  {
   "cell_type": "code",
   "execution_count": 7,
   "metadata": {},
   "outputs": [
    {
     "name": "stdout",
     "output_type": "stream",
     "text": [
      "41.29 % of announces belongs to hosts with 1 announces\n",
      "23.48 % of announces belongs to hosts with 2 announces\n",
      "12.92 % of announces belongs to hosts with 3 announces\n",
      "9.78 % of announces belongs to hosts with 4 announces\n",
      "6.46 % of announces belongs to hosts with 6 announces\n",
      "2.45 % of announces belongs to hosts with 5 announces\n",
      "2.05 % of announces belongs to hosts with 7 announces\n",
      "1.57 % of announces belongs to hosts with 8 announces\n"
     ]
    }
   ],
   "source": [
    "# ratio PRIVATE ROOMS / multihosts (column for aggregation: calculated_host_listings_count_private_rooms)\n",
    "\n",
    "ratio_2(listings[listings.room_type == 'Private room'].calculated_host_listings_count_private_rooms)"
   ]
  }
 ],
 "metadata": {
  "kernelspec": {
   "display_name": "my_venv",
   "language": "python",
   "name": "my_venv"
  },
  "language_info": {
   "codemirror_mode": {
    "name": "ipython",
    "version": 3
   },
   "file_extension": ".py",
   "mimetype": "text/x-python",
   "name": "python",
   "nbconvert_exporter": "python",
   "pygments_lexer": "ipython3",
   "version": "3.6.9"
  }
 },
 "nbformat": 4,
 "nbformat_minor": 4
}
