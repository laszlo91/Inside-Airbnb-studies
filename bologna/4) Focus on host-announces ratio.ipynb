{
 "cells": [
  {
   "cell_type": "code",
   "execution_count": 7,
   "metadata": {},
   "outputs": [
    {
     "name": "stdout",
     "output_type": "stream",
     "text": [
      "34.72 % of announces has 2 accommodates\n",
      "28.19 % of announces has 4 accommodates\n",
      "15.91 % of announces has 3 accommodates\n",
      "6.50 % of announces has 5 accommodates\n",
      "5.98 % of announces has 6 accommodates\n",
      "4.95 % of announces has 1 accommodates\n",
      "1.37 % of announces has 7 accommodates\n",
      "1.30 % of announces has 8 accommodates\n",
      "0.34 % of announces has 10 accommodates\n",
      "0.31 % of announces has 9 accommodates\n",
      "0.13 % of announces has 16 accommodates\n",
      "0.13 % of announces has 12 accommodates\n",
      "0.05 % of announces has 13 accommodates\n",
      "0.05 % of announces has 11 accommodates\n",
      "0.05 % of announces has 14 accommodates\n",
      "0.03 % of announces has 15 accommodates\n",
      "\n",
      "total nb accommodates 12946\n",
      "avg accommodates per announce 3.3538860103626944\n"
     ]
    }
   ],
   "source": [
    "import pandas as pd\n",
    "from collections import Counter\n",
    "import os\n",
    "import matplotlib.pyplot as plt\n",
    "\n",
    "\n",
    "# Detailed listing is required to get more information about accomodates and other aggregations\n",
    "\n",
    "listings = pd.read_csv(\"listings_detailed/12_2020.csv\")\n",
    "\n",
    "\n",
    "def ratio_1(serie):\n",
    "    a = Counter(serie.fillna(\"n.a\")).most_common()\n",
    "    tot = sum([i[1] for i in a])\n",
    "    for i in a:\n",
    "        print(f\"{(i[1]/tot)*100:.2f} % of announces has {i[0]} {serie.name}\")\n",
    "    print()\n",
    "    tot_bed = sum([i[0]*i[1] for i in a if type(i[0]) == int])\n",
    "    \n",
    "    print(f\"total nb {serie.name} {tot_bed}\")\n",
    "    print(f\"avg {serie.name} per announce {serie.mean()}\")\n",
    "    \n",
    "ratio_1(listings.accommodates)"
   ]
  },
  {
   "cell_type": "code",
   "execution_count": 8,
   "metadata": {},
   "outputs": [
    {
     "name": "stdout",
     "output_type": "stream",
     "text": [
      "37.35 % of announces has 4 accommodates\n",
      "22.12 % of announces has 2 accommodates\n",
      "17.88 % of announces has 3 accommodates\n",
      "8.70 % of announces has 5 accommodates\n",
      "8.26 % of announces has 6 accommodates\n",
      "1.81 % of announces has 7 accommodates\n",
      "1.77 % of announces has 8 accommodates\n",
      "0.74 % of announces has 1 accommodates\n",
      "0.48 % of announces has 10 accommodates\n",
      "0.44 % of announces has 9 accommodates\n",
      "0.18 % of announces has 16 accommodates\n",
      "0.07 % of announces has 13 accommodates\n",
      "0.07 % of announces has 14 accommodates\n",
      "0.07 % of announces has 12 accommodates\n",
      "0.04 % of announces has 15 accommodates\n",
      "\n",
      "total nb accommodates 10389\n",
      "avg accommodates per announce 3.8307522123893807\n"
     ]
    }
   ],
   "source": [
    "# only entire home:\n",
    "\n",
    "ratio_1(listings[listings.room_type == 'Entire home/apt'].accommodates)"
   ]
  },
  {
   "cell_type": "code",
   "execution_count": 9,
   "metadata": {},
   "outputs": [
    {
     "name": "stdout",
     "output_type": "stream",
     "text": [
      "48.01 % of announces has 1 minimum_nights\n",
      "33.68 % of announces has 2 minimum_nights\n",
      "11.19 % of announces has 3 minimum_nights\n",
      "1.76 % of announces has 4 minimum_nights\n",
      "1.63 % of announces has 5 minimum_nights\n",
      "1.17 % of announces has 7 minimum_nights\n",
      "0.60 % of announces has 30 minimum_nights\n",
      "0.34 % of announces has 28 minimum_nights\n",
      "0.31 % of announces has 15 minimum_nights\n",
      "0.28 % of announces has 6 minimum_nights\n",
      "0.28 % of announces has 25 minimum_nights\n",
      "0.23 % of announces has 10 minimum_nights\n",
      "0.10 % of announces has 14 minimum_nights\n",
      "0.10 % of announces has 60 minimum_nights\n",
      "0.05 % of announces has 21 minimum_nights\n",
      "0.05 % of announces has 180 minimum_nights\n",
      "0.05 % of announces has 90 minimum_nights\n",
      "0.03 % of announces has 31 minimum_nights\n",
      "0.03 % of announces has 55 minimum_nights\n",
      "0.03 % of announces has 22 minimum_nights\n",
      "0.03 % of announces has 200 minimum_nights\n",
      "0.03 % of announces has 300 minimum_nights\n",
      "0.03 % of announces has 20 minimum_nights\n",
      "\n",
      "total nb minimum_nights 9822\n",
      "avg minimum_nights per announce 2.544559585492228\n"
     ]
    }
   ],
   "source": [
    "# and minimum nights per stay\n",
    "\n",
    "ratio_1(listings.minimum_nights)"
   ]
  },
  {
   "cell_type": "code",
   "execution_count": 10,
   "metadata": {},
   "outputs": [
    {
     "name": "stdout",
     "output_type": "stream",
     "text": [
      "44.35 % of announces belongs to hosts with 1 announces\n",
      "15.85 % of announces belongs to hosts with 2 announces\n",
      "8.78 % of announces belongs to hosts with 3 announces\n",
      "5.18 % of announces belongs to hosts with 4 announces\n",
      "3.89 % of announces belongs to hosts with 5 announces\n",
      "2.49 % of announces belongs to hosts with 6 announces\n",
      "2.18 % of announces belongs to hosts with 7 announces\n",
      "2.10 % of announces belongs to hosts with 9 announces\n",
      "1.81 % of announces belongs to hosts with 70 announces\n",
      "1.50 % of announces belongs to hosts with 29 announces\n",
      "1.27 % of announces belongs to hosts with 49 announces\n",
      "1.24 % of announces belongs to hosts with 16 announces\n",
      "1.24 % of announces belongs to hosts with 8 announces\n",
      "1.09 % of announces belongs to hosts with 14 announces\n",
      "0.96 % of announces belongs to hosts with 37 announces\n",
      "0.93 % of announces belongs to hosts with 12 announces\n",
      "0.91 % of announces belongs to hosts with 35 announces\n",
      "0.78 % of announces belongs to hosts with 10 announces\n",
      "0.78 % of announces belongs to hosts with 30 announces\n",
      "0.62 % of announces belongs to hosts with 24 announces\n",
      "0.57 % of announces belongs to hosts with 22 announces\n",
      "0.47 % of announces belongs to hosts with 18 announces\n",
      "0.39 % of announces belongs to hosts with 15 announces\n",
      "0.34 % of announces belongs to hosts with 13 announces\n",
      "0.28 % of announces belongs to hosts with 11 announces\n"
     ]
    }
   ],
   "source": [
    "# ratio announces / multihosts\n",
    "\n",
    "def ratio_2(serie):\n",
    "    a = Counter(serie.fillna(\"n.a\")).most_common()\n",
    "    tot = sum([i[1] for i in a])\n",
    "    for i in a:\n",
    "        print(f\"{(i[1]/tot)*100:.2f} % of announces belongs to hosts with {i[0]} announces\")\n",
    "\n",
    "ratio_2(listings.calculated_host_listings_count)"
   ]
  },
  {
   "cell_type": "code",
   "execution_count": 11,
   "metadata": {},
   "outputs": [
    {
     "name": "stdout",
     "output_type": "stream",
     "text": [
      "51.36 % of announces belongs to hosts with 1 announces\n",
      "14.01 % of announces belongs to hosts with 2 announces\n",
      "6.75 % of announces belongs to hosts with 3 announces\n",
      "2.95 % of announces belongs to hosts with 4 announces\n",
      "2.58 % of announces belongs to hosts with 35 announces\n",
      "2.58 % of announces belongs to hosts with 70 announces\n",
      "2.32 % of announces belongs to hosts with 7 announces\n",
      "1.81 % of announces belongs to hosts with 49 announces\n",
      "1.77 % of announces belongs to hosts with 16 announces\n",
      "1.66 % of announces belongs to hosts with 5 announces\n",
      "1.66 % of announces belongs to hosts with 9 announces\n",
      "1.33 % of announces belongs to hosts with 18 announces\n",
      "1.11 % of announces belongs to hosts with 30 announces\n",
      "1.03 % of announces belongs to hosts with 28 announces\n",
      "0.96 % of announces belongs to hosts with 13 announces\n",
      "0.88 % of announces belongs to hosts with 8 announces\n",
      "0.88 % of announces belongs to hosts with 12 announces\n",
      "0.81 % of announces belongs to hosts with 11 announces\n",
      "0.74 % of announces belongs to hosts with 20 announces\n",
      "0.70 % of announces belongs to hosts with 19 announces\n",
      "0.66 % of announces belongs to hosts with 6 announces\n",
      "0.55 % of announces belongs to hosts with 15 announces\n",
      "0.52 % of announces belongs to hosts with 14 announces\n",
      "0.37 % of announces belongs to hosts with 10 announces\n"
     ]
    }
   ],
   "source": [
    "# ratio ENTIRE HOMES / multihosts (column for aggregation: calculated_host_listings_count_entire_homes)\n",
    "\n",
    "ratio_2(listings[listings.room_type == 'Entire home/apt'].calculated_host_listings_count_entire_homes)"
   ]
  },
  {
   "cell_type": "code",
   "execution_count": 12,
   "metadata": {},
   "outputs": [
    {
     "name": "stdout",
     "output_type": "stream",
     "text": [
      "44.17 % of announces belongs to hosts with 1 announces\n",
      "23.13 % of announces belongs to hosts with 2 announces\n",
      "12.51 % of announces belongs to hosts with 3 announces\n",
      "8.34 % of announces belongs to hosts with 4 announces\n",
      "5.69 % of announces belongs to hosts with 6 announces\n",
      "2.37 % of announces belongs to hosts with 5 announces\n",
      "1.99 % of announces belongs to hosts with 7 announces\n",
      "1.04 % of announces belongs to hosts with 11 announces\n",
      "0.76 % of announces belongs to hosts with 8 announces\n"
     ]
    }
   ],
   "source": [
    "# ratio PRIVATE ROOMS / multihosts (column for aggregation: calculated_host_listings_count_private_rooms)\n",
    "\n",
    "ratio_2(listings[listings.room_type == 'Private room'].calculated_host_listings_count_private_rooms)"
   ]
  }
 ],
 "metadata": {
  "kernelspec": {
   "display_name": "my_venv",
   "language": "python",
   "name": "my_venv"
  },
  "language_info": {
   "codemirror_mode": {
    "name": "ipython",
    "version": 3
   },
   "file_extension": ".py",
   "mimetype": "text/x-python",
   "name": "python",
   "nbconvert_exporter": "python",
   "pygments_lexer": "ipython3",
   "version": "3.6.9"
  }
 },
 "nbformat": 4,
 "nbformat_minor": 4
}
