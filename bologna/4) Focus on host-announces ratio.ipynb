{
 "cells": [
  {
   "cell_type": "code",
   "execution_count": 1,
   "metadata": {},
   "outputs": [
    {
     "name": "stdout",
     "output_type": "stream",
     "text": [
      "34.19 % of announces has 2 accommodates\n",
      "30.16 % of announces has 4 accommodates\n",
      "15.18 % of announces has 3 accommodates\n",
      "6.11 % of announces has 5 accommodates\n",
      "5.98 % of announces has 6 accommodates\n",
      "5.37 % of announces has 1 accommodates\n",
      "0.93 % of announces has 8 accommodates\n",
      "0.91 % of announces has 7 accommodates\n",
      "0.39 % of announces has 10 accommodates\n",
      "0.26 % of announces has 9 accommodates\n",
      "0.15 % of announces has 16 accommodates\n",
      "0.15 % of announces has 12 accommodates\n",
      "0.09 % of announces has 13 accommodates\n",
      "0.09 % of announces has 11 accommodates\n",
      "0.02 % of announces has 15 accommodates\n",
      "0.02 % of announces has 14 accommodates\n",
      "\n",
      "total nb accommodates 15394\n",
      "avg accommodates per announce 3.3334776959722823\n"
     ]
    }
   ],
   "source": [
    "import pandas as pd\n",
    "from collections import Counter\n",
    "import os\n",
    "import matplotlib.pyplot as plt\n",
    "\n",
    "\n",
    "# Detailed listing is required to get more information about accomodates and other aggregations\n",
    "\n",
    "listings = pd.read_csv(\"listings_detailed/9_2023.csv\")\n",
    "\n",
    "\n",
    "def ratio_1(serie):\n",
    "    a = Counter(serie.fillna(\"n.a\")).most_common()\n",
    "    tot = sum([i[1] for i in a])\n",
    "    for i in a:\n",
    "        print(f\"{(i[1]/tot)*100:.2f} % of announces has {i[0]} {serie.name}\")\n",
    "    print()\n",
    "    tot_bed = sum([i[0]*i[1] for i in a if type(i[0]) == int])\n",
    "    \n",
    "    print(f\"total nb {serie.name} {tot_bed}\")\n",
    "    print(f\"avg {serie.name} per announce {serie.mean()}\")\n",
    "    \n",
    "ratio_1(listings.accommodates)"
   ]
  },
  {
   "cell_type": "code",
   "execution_count": 2,
   "metadata": {},
   "outputs": [
    {
     "name": "stdout",
     "output_type": "stream",
     "text": [
      "38.46 % of announces has 4 accommodates\n",
      "24.67 % of announces has 2 accommodates\n",
      "16.58 % of announces has 3 accommodates\n",
      "8.03 % of announces has 5 accommodates\n",
      "7.86 % of announces has 6 accommodates\n",
      "1.19 % of announces has 8 accommodates\n",
      "1.16 % of announces has 7 accommodates\n",
      "0.61 % of announces has 1 accommodates\n",
      "0.49 % of announces has 10 accommodates\n",
      "0.35 % of announces has 9 accommodates\n",
      "0.20 % of announces has 16 accommodates\n",
      "0.12 % of announces has 13 accommodates\n",
      "0.12 % of announces has 12 accommodates\n",
      "0.09 % of announces has 11 accommodates\n",
      "0.03 % of announces has 15 accommodates\n",
      "0.03 % of announces has 14 accommodates\n",
      "\n",
      "total nb accommodates 12875\n",
      "avg accommodates per announce 3.7459994180971776\n"
     ]
    }
   ],
   "source": [
    "# only entire home:\n",
    "\n",
    "ratio_1(listings[listings.room_type == 'Entire home/apt'].accommodates)"
   ]
  },
  {
   "cell_type": "code",
   "execution_count": 3,
   "metadata": {},
   "outputs": [
    {
     "name": "stdout",
     "output_type": "stream",
     "text": [
      "47.66 % of announces has 1 minimum_nights\n",
      "30.84 % of announces has 2 minimum_nights\n",
      "14.27 % of announces has 3 minimum_nights\n",
      "2.06 % of announces has 4 minimum_nights\n",
      "1.39 % of announces has 5 minimum_nights\n",
      "0.95 % of announces has 7 minimum_nights\n",
      "0.61 % of announces has 6 minimum_nights\n",
      "0.37 % of announces has 30 minimum_nights\n",
      "0.24 % of announces has 10 minimum_nights\n",
      "0.22 % of announces has 15 minimum_nights\n",
      "0.22 % of announces has 14 minimum_nights\n",
      "0.15 % of announces has 28 minimum_nights\n",
      "0.13 % of announces has 60 minimum_nights\n",
      "0.13 % of announces has 25 minimum_nights\n",
      "0.11 % of announces has 21 minimum_nights\n",
      "0.11 % of announces has 20 minimum_nights\n",
      "0.09 % of announces has 90 minimum_nights\n",
      "0.06 % of announces has 300 minimum_nights\n",
      "0.06 % of announces has 150 minimum_nights\n",
      "0.04 % of announces has 31 minimum_nights\n",
      "0.02 % of announces has 120 minimum_nights\n",
      "0.02 % of announces has 75 minimum_nights\n",
      "0.02 % of announces has 50 minimum_nights\n",
      "0.02 % of announces has 42 minimum_nights\n",
      "0.02 % of announces has 12 minimum_nights\n",
      "0.02 % of announces has 22 minimum_nights\n",
      "0.02 % of announces has 200 minimum_nights\n",
      "0.02 % of announces has 18 minimum_nights\n",
      "0.02 % of announces has 8 minimum_nights\n",
      "0.02 % of announces has 152 minimum_nights\n",
      "0.02 % of announces has 16 minimum_nights\n",
      "0.02 % of announces has 70 minimum_nights\n",
      "0.02 % of announces has 87 minimum_nights\n",
      "0.02 % of announces has 365 minimum_nights\n",
      "\n",
      "total nb minimum_nights 13032\n",
      "avg minimum_nights per announce 2.822000866175834\n"
     ]
    }
   ],
   "source": [
    "# and minimum nights per stay\n",
    "\n",
    "ratio_1(listings.minimum_nights)"
   ]
  },
  {
   "cell_type": "code",
   "execution_count": 4,
   "metadata": {},
   "outputs": [
    {
     "name": "stdout",
     "output_type": "stream",
     "text": [
      "41.55 % of announces belongs to hosts with 1 announces\n",
      "14.60 % of announces belongs to hosts with 2 announces\n",
      "9.35 % of announces belongs to hosts with 3 announces\n",
      "5.02 % of announces belongs to hosts with 4 announces\n",
      "4.24 % of announces belongs to hosts with 196 announces\n",
      "3.14 % of announces belongs to hosts with 5 announces\n",
      "2.73 % of announces belongs to hosts with 6 announces\n",
      "1.93 % of announces belongs to hosts with 89 announces\n",
      "1.67 % of announces belongs to hosts with 77 announces\n",
      "1.56 % of announces belongs to hosts with 12 announces\n",
      "1.52 % of announces belongs to hosts with 7 announces\n",
      "1.21 % of announces belongs to hosts with 56 announces\n",
      "1.08 % of announces belongs to hosts with 10 announces\n",
      "1.04 % of announces belongs to hosts with 8 announces\n",
      "0.95 % of announces belongs to hosts with 11 announces\n",
      "0.95 % of announces belongs to hosts with 44 announces\n",
      "0.87 % of announces belongs to hosts with 40 announces\n",
      "0.84 % of announces belongs to hosts with 13 announces\n",
      "0.80 % of announces belongs to hosts with 37 announces\n",
      "0.78 % of announces belongs to hosts with 18 announces\n",
      "0.69 % of announces belongs to hosts with 16 announces\n",
      "0.65 % of announces belongs to hosts with 15 announces\n",
      "0.61 % of announces belongs to hosts with 28 announces\n",
      "0.58 % of announces belongs to hosts with 9 announces\n",
      "0.54 % of announces belongs to hosts with 25 announces\n",
      "0.41 % of announces belongs to hosts with 19 announces\n",
      "0.37 % of announces belongs to hosts with 17 announces\n",
      "0.30 % of announces belongs to hosts with 14 announces\n"
     ]
    }
   ],
   "source": [
    "# ratio announces / multihosts\n",
    "\n",
    "def ratio_2(serie):\n",
    "    a = Counter(serie.fillna(\"n.a\")).most_common()\n",
    "    tot = sum([i[1] for i in a])\n",
    "    for i in a:\n",
    "        print(f\"{(i[1]/tot)*100:.2f} % of announces belongs to hosts with {i[0]} announces\")\n",
    "\n",
    "ratio_2(listings.calculated_host_listings_count)"
   ]
  },
  {
   "cell_type": "code",
   "execution_count": 5,
   "metadata": {},
   "outputs": [
    {
     "name": "stdout",
     "output_type": "stream",
     "text": [
      "46.49 % of announces belongs to hosts with 1 announces\n",
      "12.69 % of announces belongs to hosts with 2 announces\n",
      "5.67 % of announces belongs to hosts with 3 announces\n",
      "5.67 % of announces belongs to hosts with 195 announces\n",
      "3.38 % of announces belongs to hosts with 4 announces\n",
      "2.76 % of announces belongs to hosts with 5 announces\n",
      "2.59 % of announces belongs to hosts with 89 announces\n",
      "2.24 % of announces belongs to hosts with 77 announces\n",
      "2.09 % of announces belongs to hosts with 12 announces\n",
      "1.63 % of announces belongs to hosts with 7 announces\n",
      "1.63 % of announces belongs to hosts with 56 announces\n",
      "1.57 % of announces belongs to hosts with 6 announces\n",
      "1.13 % of announces belongs to hosts with 39 announces\n",
      "1.05 % of announces belongs to hosts with 18 announces\n",
      "0.99 % of announces belongs to hosts with 17 announces\n",
      "0.99 % of announces belongs to hosts with 34 announces\n",
      "0.96 % of announces belongs to hosts with 11 announces\n",
      "0.93 % of announces belongs to hosts with 16 announces\n",
      "0.90 % of announces belongs to hosts with 31 announces\n",
      "0.87 % of announces belongs to hosts with 10 announces\n",
      "0.81 % of announces belongs to hosts with 14 announces\n",
      "0.81 % of announces belongs to hosts with 28 announces\n",
      "0.79 % of announces belongs to hosts with 9 announces\n",
      "0.73 % of announces belongs to hosts with 25 announces\n",
      "0.38 % of announces belongs to hosts with 13 announces\n",
      "0.23 % of announces belongs to hosts with 8 announces\n"
     ]
    }
   ],
   "source": [
    "# ratio ENTIRE HOMES / multihosts (column for aggregation: calculated_host_listings_count_entire_homes)\n",
    "\n",
    "ratio_2(listings[listings.room_type == 'Entire home/apt'].calculated_host_listings_count_entire_homes)"
   ]
  },
  {
   "cell_type": "code",
   "execution_count": 6,
   "metadata": {},
   "outputs": [
    {
     "name": "stdout",
     "output_type": "stream",
     "text": [
      "42.20 % of announces belongs to hosts with 1 announces\n",
      "24.73 % of announces belongs to hosts with 2 announces\n",
      "13.17 % of announces belongs to hosts with 3 announces\n",
      "7.17 % of announces belongs to hosts with 4 announces\n",
      "5.38 % of announces belongs to hosts with 6 announces\n",
      "3.14 % of announces belongs to hosts with 5 announces\n",
      "1.88 % of announces belongs to hosts with 7 announces\n",
      "1.43 % of announces belongs to hosts with 8 announces\n",
      "0.90 % of announces belongs to hosts with 10 announces\n"
     ]
    }
   ],
   "source": [
    "# ratio PRIVATE ROOMS / multihosts (column for aggregation: calculated_host_listings_count_private_rooms)\n",
    "\n",
    "ratio_2(listings[listings.room_type == 'Private room'].calculated_host_listings_count_private_rooms)"
   ]
  }
 ],
 "metadata": {
  "kernelspec": {
   "display_name": "my_venv",
   "language": "python",
   "name": "my_venv"
  },
  "language_info": {
   "codemirror_mode": {
    "name": "ipython",
    "version": 3
   },
   "file_extension": ".py",
   "mimetype": "text/x-python",
   "name": "python",
   "nbconvert_exporter": "python",
   "pygments_lexer": "ipython3",
   "version": "3.6.9"
  }
 },
 "nbformat": 4,
 "nbformat_minor": 4
}
