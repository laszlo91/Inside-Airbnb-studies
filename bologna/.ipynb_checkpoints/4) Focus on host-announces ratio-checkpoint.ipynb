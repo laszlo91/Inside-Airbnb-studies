{
 "cells": [
  {
   "cell_type": "code",
   "execution_count": 5,
   "metadata": {},
   "outputs": [
    {
     "name": "stdout",
     "output_type": "stream",
     "text": [
      "34.78 % of announces has 2 accommodates\n",
      "27.65 % of announces has 4 accommodates\n",
      "15.52 % of announces has 3 accommodates\n",
      "6.50 % of announces has 6 accommodates\n",
      "6.33 % of announces has 5 accommodates\n",
      "5.30 % of announces has 1 accommodates\n",
      "1.43 % of announces has 7 accommodates\n",
      "1.31 % of announces has 8 accommodates\n",
      "0.43 % of announces has 9 accommodates\n",
      "0.33 % of announces has 10 accommodates\n",
      "0.13 % of announces has 16 accommodates\n",
      "0.13 % of announces has 12 accommodates\n",
      "0.05 % of announces has 13 accommodates\n",
      "0.05 % of announces has 11 accommodates\n",
      "0.05 % of announces has 14 accommodates\n",
      "0.03 % of announces has 15 accommodates\n",
      "\n",
      "total nb accommodates 13382\n",
      "avg accommodates per announce 3.360622802611753\n"
     ]
    }
   ],
   "source": [
    "import pandas as pd\n",
    "from collections import Counter\n",
    "import os\n",
    "import matplotlib.pyplot as plt\n",
    "\n",
    "\n",
    "# Detailed listing is required to get more information about accomodates and other aggregations\n",
    "\n",
    "listings = pd.read_csv(\"listings_detailed/08_2020.csv\")\n",
    "\n",
    "\n",
    "def ratio_1(serie):\n",
    "    a = Counter(serie.fillna(\"n.a\")).most_common()\n",
    "    tot = sum([i[1] for i in a])\n",
    "    for i in a:\n",
    "        print(f\"{(i[1]/tot)*100:.2f} % of announces has {i[0]} {serie.name}\")\n",
    "    print()\n",
    "    tot_bed = sum([i[0]*i[1] for i in a if type(i[0]) == int])\n",
    "    \n",
    "    print(f\"total nb {serie.name} {tot_bed}\")\n",
    "    print(f\"avg {serie.name} per announce {serie.mean()}\")\n",
    "    \n",
    "ratio_1(listings.accommodates)"
   ]
  },
  {
   "cell_type": "code",
   "execution_count": 6,
   "metadata": {},
   "outputs": [
    {
     "name": "stdout",
     "output_type": "stream",
     "text": [
      "37.31 % of announces has 4 accommodates\n",
      "21.84 % of announces has 2 accommodates\n",
      "17.49 % of announces has 3 accommodates\n",
      "8.95 % of announces has 6 accommodates\n",
      "8.58 % of announces has 5 accommodates\n",
      "1.85 % of announces has 7 accommodates\n",
      "1.77 % of announces has 8 accommodates\n",
      "0.69 % of announces has 1 accommodates\n",
      "0.62 % of announces has 9 accommodates\n",
      "0.47 % of announces has 10 accommodates\n",
      "0.18 % of announces has 16 accommodates\n",
      "0.07 % of announces has 13 accommodates\n",
      "0.07 % of announces has 14 accommodates\n",
      "0.07 % of announces has 12 accommodates\n",
      "0.04 % of announces has 15 accommodates\n",
      "\n",
      "total nb accommodates 10666\n",
      "avg accommodates per announce 3.8630930822165883\n"
     ]
    }
   ],
   "source": [
    "# only entire home:\n",
    "\n",
    "ratio_1(listings[listings.room_type == 'Entire home/apt'].accommodates)"
   ]
  },
  {
   "cell_type": "code",
   "execution_count": 7,
   "metadata": {},
   "outputs": [
    {
     "name": "stdout",
     "output_type": "stream",
     "text": [
      "47.74 % of announces has 1 minimum_nights\n",
      "34.66 % of announces has 2 minimum_nights\n",
      "11.00 % of announces has 3 minimum_nights\n",
      "1.76 % of announces has 4 minimum_nights\n",
      "1.46 % of announces has 5 minimum_nights\n",
      "0.90 % of announces has 7 minimum_nights\n",
      "0.70 % of announces has 30 minimum_nights\n",
      "0.35 % of announces has 6 minimum_nights\n",
      "0.25 % of announces has 15 minimum_nights\n",
      "0.23 % of announces has 10 minimum_nights\n",
      "0.23 % of announces has 14 minimum_nights\n",
      "0.20 % of announces has 28 minimum_nights\n",
      "0.13 % of announces has 20 minimum_nights\n",
      "0.10 % of announces has 25 minimum_nights\n",
      "0.10 % of announces has 60 minimum_nights\n",
      "0.05 % of announces has 31 minimum_nights\n",
      "0.03 % of announces has 55 minimum_nights\n",
      "0.03 % of announces has 22 minimum_nights\n",
      "0.03 % of announces has 360 minimum_nights\n",
      "0.03 % of announces has 19 minimum_nights\n",
      "0.03 % of announces has 35 minimum_nights\n",
      "0.03 % of announces has 90 minimum_nights\n",
      "\n",
      "total nb minimum_nights 9394\n",
      "avg minimum_nights per announce 2.3591160220994474\n"
     ]
    }
   ],
   "source": [
    "# and minimum nights per stay\n",
    "\n",
    "ratio_1(listings.minimum_nights)"
   ]
  },
  {
   "cell_type": "code",
   "execution_count": 8,
   "metadata": {},
   "outputs": [
    {
     "name": "stdout",
     "output_type": "stream",
     "text": [
      "44.70 % of announces belongs to hosts with 1 announces\n",
      "15.52 % of announces belongs to hosts with 2 announces\n",
      "9.27 % of announces belongs to hosts with 3 announces\n",
      "5.12 % of announces belongs to hosts with 4 announces\n",
      "3.52 % of announces belongs to hosts with 5 announces\n",
      "2.46 % of announces belongs to hosts with 7 announces\n",
      "2.26 % of announces belongs to hosts with 6 announces\n",
      "1.81 % of announces belongs to hosts with 9 announces\n",
      "1.81 % of announces belongs to hosts with 72 announces\n",
      "1.48 % of announces belongs to hosts with 59 announces\n",
      "1.41 % of announces belongs to hosts with 8 announces\n",
      "1.21 % of announces belongs to hosts with 16 announces\n",
      "1.00 % of announces belongs to hosts with 10 announces\n",
      "0.93 % of announces belongs to hosts with 37 announces\n",
      "0.88 % of announces belongs to hosts with 35 announces\n",
      "0.83 % of announces belongs to hosts with 11 announces\n",
      "0.78 % of announces belongs to hosts with 31 announces\n",
      "0.75 % of announces belongs to hosts with 15 announces\n",
      "0.70 % of announces belongs to hosts with 28 announces\n",
      "0.65 % of announces belongs to hosts with 13 announces\n",
      "0.63 % of announces belongs to hosts with 25 announces\n",
      "0.58 % of announces belongs to hosts with 23 announces\n",
      "0.50 % of announces belongs to hosts with 20 announces\n",
      "0.48 % of announces belongs to hosts with 19 announces\n",
      "0.43 % of announces belongs to hosts with 17 announces\n",
      "0.30 % of announces belongs to hosts with 12 announces\n"
     ]
    }
   ],
   "source": [
    "# ratio announces / multihosts\n",
    "\n",
    "def ratio_2(serie):\n",
    "    a = Counter(serie.fillna(\"n.a\")).most_common()\n",
    "    tot = sum([i[1] for i in a])\n",
    "    for i in a:\n",
    "        print(f\"{(i[1]/tot)*100:.2f} % of announces belongs to hosts with {i[0]} announces\")\n",
    "\n",
    "ratio_2(listings.calculated_host_listings_count)"
   ]
  },
  {
   "cell_type": "code",
   "execution_count": 11,
   "metadata": {},
   "outputs": [
    {
     "name": "stdout",
     "output_type": "stream",
     "text": [
      "52.23 % of announces belongs to hosts with 1 announces\n",
      "12.75 % of announces belongs to hosts with 2 announces\n",
      "7.06 % of announces belongs to hosts with 3 announces\n",
      "3.19 % of announces belongs to hosts with 4 announces\n",
      "2.61 % of announces belongs to hosts with 72 announces\n",
      "2.54 % of announces belongs to hosts with 7 announces\n",
      "2.32 % of announces belongs to hosts with 16 announces\n",
      "2.14 % of announces belongs to hosts with 59 announces\n",
      "1.81 % of announces belongs to hosts with 25 announces\n",
      "1.63 % of announces belongs to hosts with 9 announces\n",
      "1.45 % of announces belongs to hosts with 5 announces\n",
      "1.27 % of announces belongs to hosts with 35 announces\n",
      "1.16 % of announces belongs to hosts with 8 announces\n",
      "1.09 % of announces belongs to hosts with 15 announces\n",
      "1.01 % of announces belongs to hosts with 28 announces\n",
      "0.98 % of announces belongs to hosts with 27 announces\n",
      "0.80 % of announces belongs to hosts with 22 announces\n",
      "0.80 % of announces belongs to hosts with 11 announces\n",
      "0.65 % of announces belongs to hosts with 18 announces\n",
      "0.65 % of announces belongs to hosts with 6 announces\n",
      "0.62 % of announces belongs to hosts with 17 announces\n",
      "0.47 % of announces belongs to hosts with 13 announces\n",
      "0.43 % of announces belongs to hosts with 12 announces\n",
      "0.36 % of announces belongs to hosts with 10 announces\n"
     ]
    }
   ],
   "source": [
    "# ratio ENTIRE HOMES / multihosts (column for aggregation: calculated_host_listings_count_entire_homes)\n",
    "\n",
    "ratio_2(listings[listings.room_type == 'Entire home/apt'].calculated_host_listings_count_entire_homes)"
   ]
  },
  {
   "cell_type": "code",
   "execution_count": 13,
   "metadata": {},
   "outputs": [
    {
     "name": "stdout",
     "output_type": "stream",
     "text": [
      "44.35 % of announces belongs to hosts with 1 announces\n",
      "24.57 % of announces belongs to hosts with 2 announces\n",
      "11.92 % of announces belongs to hosts with 3 announces\n",
      "6.14 % of announces belongs to hosts with 4 announces\n",
      "4.88 % of announces belongs to hosts with 6 announces\n",
      "3.61 % of announces belongs to hosts with 5 announces\n",
      "1.90 % of announces belongs to hosts with 7 announces\n",
      "1.63 % of announces belongs to hosts with 9 announces\n",
      "0.99 % of announces belongs to hosts with 11 announces\n"
     ]
    }
   ],
   "source": [
    "# ratio PRIVATE ROOMS / multihosts (column for aggregation: calculated_host_listings_count_private_rooms)\n",
    "\n",
    "ratio_2(listings[listings.room_type == 'Private room'].calculated_host_listings_count_private_rooms)"
   ]
  }
 ],
 "metadata": {
  "kernelspec": {
   "display_name": "my_venv",
   "language": "python",
   "name": "my_venv"
  },
  "language_info": {
   "codemirror_mode": {
    "name": "ipython",
    "version": 3
   },
   "file_extension": ".py",
   "mimetype": "text/x-python",
   "name": "python",
   "nbconvert_exporter": "python",
   "pygments_lexer": "ipython3",
   "version": "3.6.9"
  }
 },
 "nbformat": 4,
 "nbformat_minor": 4
}
