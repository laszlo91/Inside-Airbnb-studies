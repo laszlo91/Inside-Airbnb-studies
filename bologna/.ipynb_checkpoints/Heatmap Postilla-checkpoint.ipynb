{
 "cells": [
  {
   "cell_type": "code",
   "execution_count": null,
   "metadata": {},
   "outputs": [],
   "source": [
    "# comparare densità case intere dedicate ad Airbnb rispetto allo stock abitativo\n",
    "\n",
    "map_df_ix = map_df.set_index(\"NOMEZONA\")\n",
    "stock = pd.read_csv(\"other_data/rapporti_alloggi_caseintere.csv\")\n",
    "stock = stock.set_index(map_df_ix.index)\n",
    "\n",
    "def geomerge3(stock):\n",
    "    merged = map_df_ix.join(stock['rapporto case intere / alloggi'].rename(\"stock_bnb_ratio\"))\n",
    "    return merged\n",
    "\n",
    "feb20 = geomerge3(stock)\n",
    "min(feb20['stock_bnb_ratio'])\n",
    "\n",
    "def stock_bnb_ratio_heatmap(merged, period):\n",
    "    \n",
    "    fig, ax = plt.subplots(1, figsize=(16, 12))\n",
    "    merged.plot(column=\"stock_bnb_ratio\", cmap=\"Reds\", linewidth=0.8, ax=ax, edgecolor=\"0.8\", scheme='quantiles')\n",
    "    \n",
    "    # matplotlib annotations...\n",
    "    ax.axis(\"off\")\n",
    "    ax.set_title(\"Ratio case intere / stock abitativo per zona\", fontdict={\"fontsize\": \"15\", \"fontweight\" : \"3\"})\n",
    "    ax.annotate(period.strftime('%Y/%m'),xy=(0.1, .2),  xycoords=\"figure fraction\"\n",
    "                ,horizontalalignment=\"left\", verticalalignment=\"top\", fontsize=15, color=\"#555555\")\n",
    "    \n",
    "    # and the caption..\n",
    "    minimum = min(merged['stock_bnb_ratio'])\n",
    "    maximum = max(merged['stock_bnb_ratio'])\n",
    "    sm = plt.cm.ScalarMappable(cmap=\"Reds\", norm=plt.Normalize(vmin=minimum, vmax=maximum))\n",
    "    sm.set_array([])\n",
    "\n",
    "    cbar = fig.colorbar(sm)\n",
    "    \n",
    "    plt.show()\n",
    "\n",
    "heatmap(feb20, periods[-1])"
   ]
  }
 ],
 "metadata": {
  "kernelspec": {
   "display_name": "my_venv",
   "language": "python",
   "name": "my_venv"
  },
  "language_info": {
   "codemirror_mode": {
    "name": "ipython",
    "version": 3
   },
   "file_extension": ".py",
   "mimetype": "text/x-python",
   "name": "python",
   "nbconvert_exporter": "python",
   "pygments_lexer": "ipython3",
   "version": "3.6.9"
  }
 },
 "nbformat": 4,
 "nbformat_minor": 4
}
