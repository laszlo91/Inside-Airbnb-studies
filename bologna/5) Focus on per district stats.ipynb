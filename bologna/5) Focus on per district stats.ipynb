{
 "cells": [
  {
   "cell_type": "code",
   "execution_count": 1,
   "metadata": {},
   "outputs": [],
   "source": [
    "import os\n",
    "import pandas as pd"
   ]
  },
  {
   "cell_type": "code",
   "execution_count": 2,
   "metadata": {},
   "outputs": [],
   "source": [
    "## all my csv (the namefile starting with a number)\n",
    "files = [i for i in os.listdir('other_data/') if i[0].isdigit()]\n",
    "\n",
    "\n",
    "## Initializing all csv files as a pandas dataframe\n",
    "def setup(datalist):\n",
    "    \n",
    "    dfs = []\n",
    "    for i in datalist:  \n",
    "        try:\n",
    "            dfs.append(pd.read_csv(\"other_data/\" + str(i)))\n",
    "        except UnicodeDecodeError:\n",
    "            print(i)\n",
    "    \n",
    "    return dfs     \n",
    "\n",
    "dfs = setup(files)\n",
    "\n",
    "\n",
    "## Creating a list of pandas datetimes from the filenames \n",
    "def timestamps(datalist):\n",
    "    periods = []\n",
    "    for i in datalist:\n",
    "        y = i.split(\".\")[0].split(\"_\")[1]\n",
    "        m = i.split(\".\")[0].split(\"_\")[0]\n",
    "        d = 1\n",
    "        date = str(y) + \"-\" + str(m) + \"-\" + str(d)\n",
    "        date = pd.Timestamp(date)\n",
    "        periods.append(date)\n",
    "    return periods\n",
    "\n",
    "periods = timestamps(files)\n",
    "\n",
    "\n",
    "## Sorting dataframes by date\n",
    "tmp = [(d,p) for d,p in sorted(zip(dfs,periods), key=lambda pair: pair[1])]\n",
    "periods = [b for a,b in tmp]\n",
    "\n",
    "dfs = [a for a,b in tmp]\n",
    "    \n",
    "    \n",
    "## then check out if everything went well \n",
    "assert(len(periods) == len(dfs))"
   ]
  },
  {
   "cell_type": "code",
   "execution_count": 3,
   "metadata": {},
   "outputs": [],
   "source": [
    "## remove price outliers as usual\n",
    "\n",
    "def remove_outliers(period):\n",
    "    x = period['price'] * period['availability_365'] / 365\n",
    "    period[\"price_pond\"] = x\n",
    "    y = period['price']\n",
    "    return period[y.between(y.quantile(.0001), y.quantile(.97))]\n",
    "\n",
    "dfs = [remove_outliers(i) for i in dfs]\n",
    "\n",
    "\n",
    "## for a better readability\n",
    "\n",
    "periods = [i.strftime('%Y/%m') for i in periods]"
   ]
  },
  {
   "cell_type": "code",
   "execution_count": 4,
   "metadata": {},
   "outputs": [
    {
     "data": {
      "text/plain": [
       "['2018/07', '2019/02', '2019/07', '2020/02', '2020/08', '2021/02']"
      ]
     },
     "execution_count": 4,
     "metadata": {},
     "output_type": "execute_result"
    }
   ],
   "source": [
    "periods"
   ]
  },
  {
   "cell_type": "code",
   "execution_count": 5,
   "metadata": {},
   "outputs": [
    {
     "name": "stderr",
     "output_type": "stream",
     "text": [
      "/home/laszlo/my_venv/lib/python3.6/site-packages/ipykernel_launcher.py:4: SettingWithCopyWarning: \n",
      "A value is trying to be set on a copy of a slice from a DataFrame.\n",
      "Try using .loc[row_indexer,col_indexer] = value instead\n",
      "\n",
      "See the caveats in the documentation: http://pandas.pydata.org/pandas-docs/stable/user_guide/indexing.html#returning-a-view-versus-a-copy\n",
      "  after removing the cwd from sys.path.\n",
      "/home/laszlo/my_venv/lib/python3.6/site-packages/pandas/core/indexing.py:494: SettingWithCopyWarning: \n",
      "A value is trying to be set on a copy of a slice from a DataFrame.\n",
      "Try using .loc[row_indexer,col_indexer] = value instead\n",
      "\n",
      "See the caveats in the documentation: http://pandas.pydata.org/pandas-docs/stable/user_guide/indexing.html#returning-a-view-versus-a-copy\n",
      "  self.obj[item] = s\n"
     ]
    }
   ],
   "source": [
    "## make a column with macroarea value {\"periferia\", \"centro\"} \n",
    "\n",
    "def aggregate_zone(df):\n",
    "    df[\"macroarea\"] = 'periferia'\n",
    "    df.loc[df['zone'].isin(['Marconi','Irnerio','Malpighi','Galvani']), 'macroarea'] = 'centro'\n",
    "    return df\n",
    "\n",
    "dfs = [aggregate_zone(i) for i in dfs]"
   ]
  },
  {
   "cell_type": "code",
   "execution_count": 6,
   "metadata": {},
   "outputs": [
    {
     "name": "stdout",
     "output_type": "stream",
     "text": [
      "tasso crescita prezzo medio fra 2018/07 e 2019/07 per quartiere Barca è del 6.77 %\n",
      "tasso crescita prezzo medio fra 2018/07 e 2019/07 per quartiere Bolognina è del 6.47 %\n",
      "tasso crescita prezzo medio fra 2018/07 e 2019/07 per quartiere Borgo Panigale è del 15.13 %\n",
      "tasso crescita prezzo medio fra 2018/07 e 2019/07 per quartiere Colli è del 3.89 %\n",
      "tasso crescita prezzo medio fra 2018/07 e 2019/07 per quartiere Corticella è del 16.57 %\n",
      "tasso crescita prezzo medio fra 2018/07 e 2019/07 per quartiere Costa Saragozza è del 13.86 %\n",
      "tasso crescita prezzo medio fra 2018/07 e 2019/07 per quartiere Galvani è del 4.61 %\n",
      "tasso crescita prezzo medio fra 2018/07 e 2019/07 per quartiere Irnerio è del 7.78 %\n",
      "tasso crescita prezzo medio fra 2018/07 e 2019/07 per quartiere Lame è del 15.74 %\n",
      "tasso crescita prezzo medio fra 2018/07 e 2019/07 per quartiere Malpighi è del 9.08 %\n",
      "tasso crescita prezzo medio fra 2018/07 e 2019/07 per quartiere Marconi è del 10.47 %\n",
      "tasso crescita prezzo medio fra 2018/07 e 2019/07 per quartiere Mazzini è del -7.38 %\n",
      "tasso crescita prezzo medio fra 2018/07 e 2019/07 per quartiere Murri è del 16.61 %\n",
      "tasso crescita prezzo medio fra 2018/07 e 2019/07 per quartiere S. Ruffillo è del 1.16 %\n",
      "tasso crescita prezzo medio fra 2018/07 e 2019/07 per quartiere S. Viola è del -1.29 %\n",
      "tasso crescita prezzo medio fra 2018/07 e 2019/07 per quartiere S. Vitale è del 1.87 %\n",
      "tasso crescita prezzo medio fra 2018/07 e 2019/07 per quartiere Saffi è del 4.95 %\n",
      "tasso crescita prezzo medio fra 2018/07 e 2019/07 per quartiere San Donato è del 6.83 %\n",
      "\n",
      "media 7.248314277456294\n",
      "\n",
      "\n",
      "tasso crescita prezzo medio fra 2019/02 e 2020/02 per quartiere Barca è del -3.98 %\n",
      "tasso crescita prezzo medio fra 2019/02 e 2020/02 per quartiere Bolognina è del 7.59 %\n",
      "tasso crescita prezzo medio fra 2019/02 e 2020/02 per quartiere Borgo Panigale è del 16.49 %\n",
      "tasso crescita prezzo medio fra 2019/02 e 2020/02 per quartiere Colli è del 9.22 %\n",
      "tasso crescita prezzo medio fra 2019/02 e 2020/02 per quartiere Corticella è del 6.02 %\n",
      "tasso crescita prezzo medio fra 2019/02 e 2020/02 per quartiere Costa Saragozza è del 4.85 %\n",
      "tasso crescita prezzo medio fra 2019/02 e 2020/02 per quartiere Galvani è del 10.42 %\n",
      "tasso crescita prezzo medio fra 2019/02 e 2020/02 per quartiere Irnerio è del 7.02 %\n",
      "tasso crescita prezzo medio fra 2019/02 e 2020/02 per quartiere Lame è del 6.79 %\n",
      "tasso crescita prezzo medio fra 2019/02 e 2020/02 per quartiere Malpighi è del 5.82 %\n",
      "tasso crescita prezzo medio fra 2019/02 e 2020/02 per quartiere Marconi è del 9.29 %\n",
      "tasso crescita prezzo medio fra 2019/02 e 2020/02 per quartiere Mazzini è del 1.95 %\n",
      "tasso crescita prezzo medio fra 2019/02 e 2020/02 per quartiere Murri è del 9.34 %\n",
      "tasso crescita prezzo medio fra 2019/02 e 2020/02 per quartiere S. Ruffillo è del 0.97 %\n",
      "tasso crescita prezzo medio fra 2019/02 e 2020/02 per quartiere S. Viola è del 12.26 %\n",
      "tasso crescita prezzo medio fra 2019/02 e 2020/02 per quartiere S. Vitale è del 11.54 %\n",
      "tasso crescita prezzo medio fra 2019/02 e 2020/02 per quartiere Saffi è del 6.54 %\n",
      "tasso crescita prezzo medio fra 2019/02 e 2020/02 per quartiere San Donato è del 8.68 %\n",
      "\n",
      "media 7.267262994441334\n",
      "\n",
      "\n",
      "tasso crescita prezzo medio fra 2020/02 e 2021/02 per quartiere Barca è del 7.02 %\n",
      "tasso crescita prezzo medio fra 2020/02 e 2021/02 per quartiere Bolognina è del -2.87 %\n",
      "tasso crescita prezzo medio fra 2020/02 e 2021/02 per quartiere Borgo Panigale è del -3.53 %\n",
      "tasso crescita prezzo medio fra 2020/02 e 2021/02 per quartiere Colli è del -5.86 %\n",
      "tasso crescita prezzo medio fra 2020/02 e 2021/02 per quartiere Corticella è del 0.40 %\n",
      "tasso crescita prezzo medio fra 2020/02 e 2021/02 per quartiere Costa Saragozza è del -1.05 %\n",
      "tasso crescita prezzo medio fra 2020/02 e 2021/02 per quartiere Galvani è del -8.97 %\n",
      "tasso crescita prezzo medio fra 2020/02 e 2021/02 per quartiere Irnerio è del -9.35 %\n",
      "tasso crescita prezzo medio fra 2020/02 e 2021/02 per quartiere Lame è del -11.74 %\n",
      "tasso crescita prezzo medio fra 2020/02 e 2021/02 per quartiere Malpighi è del -9.00 %\n",
      "tasso crescita prezzo medio fra 2020/02 e 2021/02 per quartiere Marconi è del -12.68 %\n",
      "tasso crescita prezzo medio fra 2020/02 e 2021/02 per quartiere Mazzini è del 5.61 %\n",
      "tasso crescita prezzo medio fra 2020/02 e 2021/02 per quartiere Murri è del -13.93 %\n",
      "tasso crescita prezzo medio fra 2020/02 e 2021/02 per quartiere S. Ruffillo è del 10.24 %\n",
      "tasso crescita prezzo medio fra 2020/02 e 2021/02 per quartiere S. Viola è del -0.20 %\n",
      "tasso crescita prezzo medio fra 2020/02 e 2021/02 per quartiere S. Vitale è del -2.70 %\n",
      "tasso crescita prezzo medio fra 2020/02 e 2021/02 per quartiere Saffi è del -4.33 %\n",
      "tasso crescita prezzo medio fra 2020/02 e 2021/02 per quartiere San Donato è del -3.84 %\n",
      "\n",
      "media -4.385155374636916\n"
     ]
    }
   ],
   "source": [
    "def prezzo_medio_per_zona(x1, x2, dfs=dfs):    \n",
    "    \n",
    "    y1 = dfs[x1].groupby(\"zone\")['price'].mean()\n",
    "    y2 = dfs[x2].groupby(\"zone\")['price'].mean()\n",
    "\n",
    "    s1 = ((y2 - y1) / y1 ) * 100\n",
    "    s0 = s1.index\n",
    "\n",
    "    for ix,it in enumerate(s0):\n",
    "        print(f\"tasso crescita prezzo medio fra {periods[x1]} e {periods[x2]} per quartiere {it} è del {s1[ix]:.2f} %\")\n",
    "\n",
    "    print()\n",
    "    print(f\"media {((y2.sum()- y1.sum()) / y1.sum() ) * 100}\")\n",
    "\n",
    "\n",
    "prezzo_medio_per_zona(0, 2)\n",
    "print()\n",
    "print()\n",
    "prezzo_medio_per_zona(1, 3)\n",
    "print()\n",
    "print()\n",
    "prezzo_medio_per_zona(3, 5)"
   ]
  },
  {
   "cell_type": "code",
   "execution_count": 7,
   "metadata": {},
   "outputs": [
    {
     "name": "stdout",
     "output_type": "stream",
     "text": [
      "tasso crescita prezzo medio fra 2018/07 e 2019/07 per quartiere centro è del 8.15 %\n",
      "tasso crescita prezzo medio fra 2018/07 e 2019/07 per quartiere periferia è del 6.91 %\n",
      "\n",
      "\n",
      "tasso crescita prezzo medio fra 2019/02 e 2020/02 per quartiere centro è del 8.19 %\n",
      "tasso crescita prezzo medio fra 2019/02 e 2020/02 per quartiere periferia è del 8.00 %\n",
      "\n",
      "\n",
      "tasso crescita prezzo medio fra 2020/02 e 2021/02 per quartiere centro è del -10.15 %\n",
      "tasso crescita prezzo medio fra 2020/02 e 2021/02 per quartiere periferia è del -3.08 %\n"
     ]
    }
   ],
   "source": [
    "def prezzo_medio_per_macroarea(x1, x2, dfs=dfs):\n",
    "    \n",
    "    y1 =dfs[x1].groupby(\"macroarea\")['price'].mean()\n",
    "    y2 = dfs[x2].groupby(\"macroarea\")['price'].mean()\n",
    "\n",
    "    s1 = ((y2 - y1) / y1 ) * 100\n",
    "    s0 = s1.index\n",
    "\n",
    "    for ix,it in enumerate(s0):\n",
    "        print(f\"tasso crescita prezzo medio fra {periods[x1]} e {periods[x2]} per quartiere {it} è del {s1[ix]:.2f} %\")\n",
    "        \n",
    "        \n",
    "prezzo_medio_per_macroarea(0, 2)\n",
    "print()\n",
    "print()\n",
    "prezzo_medio_per_macroarea(1, 3)\n",
    "print()\n",
    "print()\n",
    "prezzo_medio_per_macroarea(3, 5)"
   ]
  },
  {
   "cell_type": "code",
   "execution_count": 8,
   "metadata": {},
   "outputs": [
    {
     "name": "stdout",
     "output_type": "stream",
     "text": [
      "tasso crescita num. annunci fra 2018/07 e 2020/02 per quartiere Barca è del 39.29 %\n",
      "tasso crescita num. annunci fra 2018/07 e 2020/02 per quartiere Bolognina è del 21.57 %\n",
      "tasso crescita num. annunci fra 2018/07 e 2020/02 per quartiere Borgo Panigale è del 35.29 %\n",
      "tasso crescita num. annunci fra 2018/07 e 2020/02 per quartiere Colli è del 9.30 %\n",
      "tasso crescita num. annunci fra 2018/07 e 2020/02 per quartiere Corticella è del 29.73 %\n",
      "tasso crescita num. annunci fra 2018/07 e 2020/02 per quartiere Costa Saragozza è del 12.74 %\n",
      "tasso crescita num. annunci fra 2018/07 e 2020/02 per quartiere Galvani è del 30.57 %\n",
      "tasso crescita num. annunci fra 2018/07 e 2020/02 per quartiere Irnerio è del 25.33 %\n",
      "tasso crescita num. annunci fra 2018/07 e 2020/02 per quartiere Lame è del 29.03 %\n",
      "tasso crescita num. annunci fra 2018/07 e 2020/02 per quartiere Malpighi è del 28.21 %\n",
      "tasso crescita num. annunci fra 2018/07 e 2020/02 per quartiere Marconi è del 37.26 %\n",
      "tasso crescita num. annunci fra 2018/07 e 2020/02 per quartiere Mazzini è del 32.00 %\n",
      "tasso crescita num. annunci fra 2018/07 e 2020/02 per quartiere Murri è del 18.18 %\n",
      "tasso crescita num. annunci fra 2018/07 e 2020/02 per quartiere S. Ruffillo è del 62.50 %\n",
      "tasso crescita num. annunci fra 2018/07 e 2020/02 per quartiere S. Viola è del 15.79 %\n",
      "tasso crescita num. annunci fra 2018/07 e 2020/02 per quartiere S. Vitale è del 10.29 %\n",
      "tasso crescita num. annunci fra 2018/07 e 2020/02 per quartiere Saffi è del 42.86 %\n",
      "tasso crescita num. annunci fra 2018/07 e 2020/02 per quartiere San Donato è del 45.08 %\n",
      "\n",
      "media 27.485380116959064\n",
      "\n",
      "\n",
      "tasso crescita num. annunci fra 2020/02 e 2021/02 per quartiere Barca è del -10.26 %\n",
      "tasso crescita num. annunci fra 2020/02 e 2021/02 per quartiere Bolognina è del -23.73 %\n",
      "tasso crescita num. annunci fra 2020/02 e 2021/02 per quartiere Borgo Panigale è del -29.35 %\n",
      "tasso crescita num. annunci fra 2020/02 e 2021/02 per quartiere Colli è del 2.13 %\n",
      "tasso crescita num. annunci fra 2020/02 e 2021/02 per quartiere Corticella è del 6.25 %\n",
      "tasso crescita num. annunci fra 2020/02 e 2021/02 per quartiere Costa Saragozza è del -15.82 %\n",
      "tasso crescita num. annunci fra 2020/02 e 2021/02 per quartiere Galvani è del -21.66 %\n",
      "tasso crescita num. annunci fra 2020/02 e 2021/02 per quartiere Irnerio è del -5.19 %\n",
      "tasso crescita num. annunci fra 2020/02 e 2021/02 per quartiere Lame è del -5.00 %\n",
      "tasso crescita num. annunci fra 2020/02 e 2021/02 per quartiere Malpighi è del -25.92 %\n",
      "tasso crescita num. annunci fra 2020/02 e 2021/02 per quartiere Marconi è del -2.15 %\n",
      "tasso crescita num. annunci fra 2020/02 e 2021/02 per quartiere Mazzini è del -20.20 %\n",
      "tasso crescita num. annunci fra 2020/02 e 2021/02 per quartiere Murri è del -19.53 %\n",
      "tasso crescita num. annunci fra 2020/02 e 2021/02 per quartiere S. Ruffillo è del -19.23 %\n",
      "tasso crescita num. annunci fra 2020/02 e 2021/02 per quartiere S. Viola è del -22.73 %\n",
      "tasso crescita num. annunci fra 2020/02 e 2021/02 per quartiere S. Vitale è del -11.00 %\n",
      "tasso crescita num. annunci fra 2020/02 e 2021/02 per quartiere Saffi è del -16.00 %\n",
      "tasso crescita num. annunci fra 2020/02 e 2021/02 per quartiere San Donato è del -23.93 %\n",
      "\n",
      "media -14.380733944954127\n"
     ]
    }
   ],
   "source": [
    "def tasso_crescita_per_zona(x1, x2, dfs=dfs):   \n",
    "    \n",
    "    y1 =  dfs[x1]['zone'].value_counts(normalize=False)\n",
    "    y2 = dfs[x2]['zone'].value_counts(normalize=False)\n",
    "\n",
    "    s1 = ((y2 - y1) / y1 ) * 100\n",
    "    s0 = s1.index\n",
    "\n",
    "    for ix,it in enumerate(s0):\n",
    "        print(f\"tasso crescita num. annunci fra {periods[x1]} e {periods[x2]} per quartiere {it} è del {s1[ix]:.2f} %\")\n",
    "    \n",
    "    print()\n",
    "    print(f\"media {((y2.sum() - y1.sum()) / y1.sum() ) * 100}\")\n",
    "    \n",
    "tasso_crescita_per_zona(0, -3)\n",
    "print()\n",
    "print()\n",
    "tasso_crescita_per_zona(-3, -1)"
   ]
  },
  {
   "cell_type": "code",
   "execution_count": 9,
   "metadata": {},
   "outputs": [
    {
     "name": "stdout",
     "output_type": "stream",
     "text": [
      "tasso crescita num. annunci fra 2018/07 e 2020/02 per quartiere centro è del 30.16 %\n",
      "tasso crescita num. annunci fra 2018/07 e 2020/02 per quartiere periferia è del 24.60 %\n",
      "\n",
      "media 27.42923840093376\n",
      "\n",
      "\n",
      "tasso crescita num. annunci fra 2020/02 e 2021/02 per quartiere centro è del -11.37 %\n",
      "tasso crescita num. annunci fra 2020/02 e 2021/02 per quartiere periferia è del -17.79 %\n",
      "\n",
      "media -14.449278681016716\n"
     ]
    }
   ],
   "source": [
    "def tasso_crescita_per_zona(x1, x2, dfs=dfs):   \n",
    "    \n",
    "    y1 = dfs[x1]['macroarea'].value_counts(normalize=False)\n",
    "    y2 = dfs[x2]['macroarea'].value_counts(normalize=False)\n",
    "\n",
    "    s1 = ((y2 - y1) / y1 ) * 100\n",
    "    s0 = s1.index\n",
    "\n",
    "    for ix,it in enumerate(s0):\n",
    "        print(f\"tasso crescita num. annunci fra {periods[x1]} e {periods[x2]} per quartiere {it} è del {s1[ix]:.2f} %\")\n",
    "    \n",
    "    print()\n",
    "    print(f\"media {((y2.sum() - y1.sum()) / y1.sum() ) * 100}\")\n",
    "    \n",
    "tasso_crescita_per_zona(0, -3)\n",
    "print()\n",
    "print()\n",
    "tasso_crescita_per_zona(-3, -1)"
   ]
  },
  {
   "cell_type": "code",
   "execution_count": 10,
   "metadata": {},
   "outputs": [
    {
     "name": "stderr",
     "output_type": "stream",
     "text": [
      "/home/laszlo/my_venv/lib/python3.6/site-packages/pandas/plotting/_matplotlib/converter.py:103: FutureWarning: Using an implicitly registered datetime converter for a matplotlib plotting method. The converter was registered by pandas on import. Future versions of pandas will require you to explicitly register matplotlib converters.\n",
      "\n",
      "To register the converters:\n",
      "\t>>> from pandas.plotting import register_matplotlib_converters\n",
      "\t>>> register_matplotlib_converters()\n",
      "  warnings.warn(msg, FutureWarning)\n"
     ]
    },
    {
     "data": {
      "image/png": "[encoded data removed]",
      "text/plain": [
       "<Figure size 720x432 with 1 Axes>"
      ]
     },
     "metadata": {},
     "output_type": "display_data"
    }
   ],
   "source": [
    "import seaborn as sns\n",
    "import matplotlib.pyplot as plt\n",
    "\n",
    "\n",
    "def snsplot(lines):\n",
    "    sns.set(style=\"darkgrid\")\n",
    "    plt.figure(figsize=(10,6))\n",
    "    sns.lineplot(markers=True, dashes=False, data=lines)\n",
    "\n",
    "\n",
    "def ids_during_time(dfs, periods):\n",
    "    index = pd.DatetimeIndex(periods)\n",
    "\n",
    "    centro = pd.Series([dfs[i][dfs[i].macroarea.isin([\"centro\"])]\\\n",
    "                                    .id.count() for i in range(len(dfs))], index=index)\n",
    "    #bolognina = pd.Series([dfs[i][dfs[i].macroarea.isin([\"bolognina\"])]\\\n",
    "    #                                .id.count() for i in range(len(dfs))], index=index)\n",
    "    periferia = pd.Series([dfs[i][dfs[i].macroarea.isin([\"periferia\"])]\\\n",
    "                                    .id.count() for i in range(len(dfs))], index=index)\n",
    "    \n",
    "\n",
    "    lines = centro.rename(\"centro\").to_frame()\\\n",
    "        .join(periferia.rename(\"fuori porta\").to_frame())\n",
    "            #.join(bolognina.rename(\"bolognina\").to_frame())\\\n",
    "    snsplot(lines)\n",
    "    \n",
    "ids_during_time(dfs, periods)\n",
    "\n",
    "\n",
    "#andamento annunci"
   ]
  },
  {
   "cell_type": "code",
   "execution_count": 11,
   "metadata": {},
   "outputs": [
    {
     "name": "stdout",
     "output_type": "stream",
     "text": [
      "introiti totali su Bolo 123875.66301369862 €\n",
      "\n",
      "Introiti Bolognina su totale: 8.32 %\n",
      "Introiti Centro su totale: 55.93 %\n"
     ]
    }
   ],
   "source": [
    "# introiti totali, percentuali su Centro, Bolognina.\n",
    "\n",
    "per = dfs[-1]\n",
    "introiti_tot = per['price_pond'].sum()\n",
    "introiti_centro = per[per.macroarea == 'centro']['price_pond'].sum()\n",
    "introiti_bolognina = per[per.zone == 'Bolognina']['price_pond'].sum()\n",
    "\n",
    "print(f\"introiti totali su Bolo {introiti_tot} €\")\n",
    "print()\n",
    "\n",
    "print(f\"Introiti Bolognina su totale: {(introiti_bolognina/introiti_tot)*100:.2f} %\")\n",
    "print(f\"Introiti Centro su totale: {(introiti_centro/introiti_tot)*100:.2f} %\")"
   ]
  }
 ],
 "metadata": {
  "kernelspec": {
   "display_name": "my_venv",
   "language": "python",
   "name": "my_venv"
  },
  "language_info": {
   "codemirror_mode": {
    "name": "ipython",
    "version": 3
   },
   "file_extension": ".py",
   "mimetype": "text/x-python",
   "name": "python",
   "nbconvert_exporter": "python",
   "pygments_lexer": "ipython3",
   "version": "3.6.9"
  }
 },
 "nbformat": 4,
 "nbformat_minor": 4
}
